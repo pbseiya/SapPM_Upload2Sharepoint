{
 "cells": [
  {
   "cell_type": "code",
   "execution_count": null,
   "metadata": {},
   "outputs": [],
   "source": [
    "#https://github.com/vgrem/Office365-REST-Python-Client/issues/94\n",
    "import pandas as pd\n",
    "t_start=pd.Timestamp.now()\n",
    "import keyring\n",
    "import os\n",
    "from office365.runtime.auth.authentication_context import AuthenticationContext\n",
    "from office365.sharepoint.client_context import ClientContext\n",
    "\n",
    "sharepoint_user = keyring.get_password(\"sharepointonline_username\", \"username\")\n",
    "sharepoint_pass = keyring.get_password(\"sharepointonline_pass\",\"password\")\n",
    "url = 'https://irpcplc.sharepoint.com/sites/IRPCWebsite/PRO/EM'\n",
    "ctx_auth = AuthenticationContext(url=url)\n",
    "ctx_auth.acquire_token_for_user(sharepoint_user, sharepoint_pass)\n",
    "ctx = ClientContext(url, ctx_auth)\n",
    "lists = ctx.web.lists\n",
    "ctx.load(lists)\n",
    "ctx.execute_query()\n",
    "for l in lists:\n",
    "    print(l.properties['Title'])"
   ]
  },
  {
   "cell_type": "code",
   "execution_count": 4,
   "metadata": {},
   "outputs": [
    {
     "name": "stdout",
     "output_type": "stream",
     "text": [
      "[Ok] file has been downloaded into: C:\\Users\\Gaming\\AppData\\Local\\Temp\\tmpf0_qrw9r\\datecalendar.xlsx\n"
     ]
    }
   ],
   "source": [
    "file_url = \"/sites/IRPCWebsite/PRO/EM/Shared Documents/SAPPM_Python_Uploaded/datecalendar.xlsx\"\n",
    "#https://github.com/vgrem/Office365-REST-Python-Client/blob/master/examples/sharepoint/files/download_file.py\n",
    "# import os\n",
    "import tempfile\n",
    "# from office365.sharepoint.client_context import ClientContext\n",
    "# ctx = ClientContext(url, ctx_auth)\n",
    "\n",
    "download_path = os.path.join(tempfile.mkdtemp(), os.path.basename(file_url))\n",
    "with open(download_path, \"wb\") as local_file:\n",
    "    file = ctx.web.get_file_by_server_relative_path(file_url).download(local_file).execute_query()\n",
    "print(\"[Ok] file has been downloaded into: {0}\".format(download_path))"
   ]
  },
  {
   "cell_type": "code",
   "execution_count": 10,
   "metadata": {},
   "outputs": [],
   "source": [
    "complex = pd.read_excel('DateCalendar.xlsx',sheet_name='ComplexPlant')\n",
    "pgdiv = pd.read_excel('DateCalendar.xlsx',sheet_name='PGDiv')"
   ]
  },
  {
   "cell_type": "code",
   "execution_count": null,
   "metadata": {},
   "outputs": [],
   "source": []
  }
 ],
 "metadata": {
  "interpreter": {
   "hash": "25e7c445aad64aa724711ee992eb0c047c9cc803254d2d9df9c0e4c85d53ab11"
  },
  "kernelspec": {
   "display_name": "Python 3.8.8 64-bit ('base': conda)",
   "language": "python",
   "name": "python3"
  },
  "language_info": {
   "codemirror_mode": {
    "name": "ipython",
    "version": 3
   },
   "file_extension": ".py",
   "mimetype": "text/x-python",
   "name": "python",
   "nbconvert_exporter": "python",
   "pygments_lexer": "ipython3",
   "version": "3.8.8"
  },
  "orig_nbformat": 4
 },
 "nbformat": 4,
 "nbformat_minor": 2
}
