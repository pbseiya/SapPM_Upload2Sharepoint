{
 "cells": [
  {
   "cell_type": "code",
   "execution_count": 1,
   "metadata": {},
   "outputs": [
    {
     "name": "stdout",
     "output_type": "stream",
     "text": [
      "2021-11-12 07:16:58.449756\n"
     ]
    }
   ],
   "source": [
    "import pandas as pd\n",
    "import pyodbc\n",
    "import os\n",
    "from office365.runtime.auth.authentication_context import AuthenticationContext\n",
    "from office365.sharepoint.client_context import ClientContext\n",
    "saved_dir = './sappm_data_generated/'\n",
    "t_start0 = pd.Timestamp.now()\n",
    "print(t_start0)"
   ]
  },
  {
   "cell_type": "code",
   "execution_count": 2,
   "metadata": {},
   "outputs": [],
   "source": [
    "# baseurl = 'https://irpcplc.sharepoint.com'\n",
    "# basesite = '/sites/IRPCApplication/IRSC/DevThermoScanAutoReport' # every share point has a home.\n",
    "# siteurl = baseurl + basesite\n",
    "# username = sharepoint_user\n",
    "# password = 'xxxx'\n",
    "\n",
    "# # localpath = \"D:/OneDrive - IRPC/DS/Project/Upload2Sharepoint/Office365-REST-Python-Client-master/examples/data/report #123.csv\"\n",
    "# # remotepath = 'Shared%20Documents/SAPPM/report #123-1.csv' # existing folder path under sharepoint site.\n",
    "\n",
    "# ctx_auth = AuthenticationContext(siteurl)\n",
    "# ctx_auth.acquire_token_for_user(username, password)\n",
    "# ctx = ClientContext(siteurl, ctx_auth) # make sure you auth to the siteurl."
   ]
  },
  {
   "cell_type": "code",
   "execution_count": 3,
   "metadata": {},
   "outputs": [],
   "source": [
    "# # https://stackoverflow.com/questions/23696705/how-to-upload-a-file-to-sharepoint-site-using-python-script\n",
    "# def upload2sharepoint():\n",
    "#     with open(localpath, 'rb') as content_file:\n",
    "#         file_content = content_file.read()\n",
    "    \n",
    "#     dir, name = os.path.split(remotepath)\n",
    "#     file = ctx.web.get_folder_by_server_relative_url(dir).upload_file(name, file_content).execute_query()"
   ]
  },
  {
   "cell_type": "code",
   "execution_count": 4,
   "metadata": {},
   "outputs": [],
   "source": [
    "# upload2sharepoint()"
   ]
  },
  {
   "cell_type": "code",
   "execution_count": 5,
   "metadata": {},
   "outputs": [],
   "source": [
    "# localpath = \"my_file.zip\"\n",
    "# remotepath = 'Shared%20Documents/SAPPM/my_file.zip' # existing folder path under sharepoint site.\n",
    "# upload2sharepoint()"
   ]
  },
  {
   "cell_type": "code",
   "execution_count": 9,
   "metadata": {
    "collapsed": true,
    "jupyter": {
     "outputs_hidden": true
    },
    "tags": []
   },
   "outputs": [
    {
     "name": "stderr",
     "output_type": "stream",
     "text": [
      "An error occurred while retrieving token from XML response: AADSTS5000811: Unable to verify token signature. The signing key identifier does not match any valid registered keys.\n"
     ]
    },
    {
     "ename": "ValueError",
     "evalue": "An error occurred while retrieving token from XML response: AADSTS5000811: Unable to verify token signature. The signing key identifier does not match any valid registered keys.",
     "output_type": "error",
     "traceback": [
      "\u001b[1;31m---------------------------------------------------------------------------\u001b[0m",
      "\u001b[1;31mValueError\u001b[0m                                Traceback (most recent call last)",
      "\u001b[1;32m<ipython-input-9-49a8e1b2daca>\u001b[0m in \u001b[0;36m<module>\u001b[1;34m\u001b[0m\n\u001b[0;32m     17\u001b[0m \u001b[0mtarget_url\u001b[0m \u001b[1;33m=\u001b[0m \u001b[0mbasesite\u001b[0m\u001b[1;33m+\u001b[0m\u001b[0mdocurl\u001b[0m\u001b[1;33m\u001b[0m\u001b[1;33m\u001b[0m\u001b[0m\n\u001b[0;32m     18\u001b[0m \u001b[0mctx_auth\u001b[0m \u001b[1;33m=\u001b[0m \u001b[0mAuthenticationContext\u001b[0m\u001b[1;33m(\u001b[0m\u001b[0msiteurl\u001b[0m\u001b[1;33m)\u001b[0m\u001b[1;33m\u001b[0m\u001b[1;33m\u001b[0m\u001b[0m\n\u001b[1;32m---> 19\u001b[1;33m \u001b[0mctx_auth\u001b[0m\u001b[1;33m.\u001b[0m\u001b[0macquire_token_for_user\u001b[0m\u001b[1;33m(\u001b[0m\u001b[0msharepoint_user\u001b[0m\u001b[1;33m,\u001b[0m \u001b[0msharepoint_pass\u001b[0m\u001b[1;33m)\u001b[0m\u001b[1;33m\u001b[0m\u001b[1;33m\u001b[0m\u001b[0m\n\u001b[0m\u001b[0;32m     20\u001b[0m \u001b[0mctx\u001b[0m \u001b[1;33m=\u001b[0m \u001b[0mClientContext\u001b[0m\u001b[1;33m(\u001b[0m\u001b[0msiteurl\u001b[0m\u001b[1;33m,\u001b[0m \u001b[0mctx_auth\u001b[0m\u001b[1;33m)\u001b[0m \u001b[1;31m# make sure you auth to the siteurl.\u001b[0m\u001b[1;33m\u001b[0m\u001b[1;33m\u001b[0m\u001b[0m\n\u001b[0;32m     21\u001b[0m \u001b[1;33m\u001b[0m\u001b[0m\n",
      "\u001b[1;32mN:\\Anaconda3\\lib\\site-packages\\office365\\runtime\\auth\\authentication_context.py\u001b[0m in \u001b[0;36macquire_token_for_user\u001b[1;34m(self, username, password, browser_mode)\u001b[0m\n\u001b[0;32m     72\u001b[0m         self._provider = SamlTokenProvider(url=self.url, username=username, password=password,\n\u001b[0;32m     73\u001b[0m                                            browser_mode=browser_mode)\n\u001b[1;32m---> 74\u001b[1;33m         \u001b[1;32mreturn\u001b[0m \u001b[0mself\u001b[0m\u001b[1;33m.\u001b[0m\u001b[0m_provider\u001b[0m\u001b[1;33m.\u001b[0m\u001b[0mensure_authentication_cookie\u001b[0m\u001b[1;33m(\u001b[0m\u001b[1;33m)\u001b[0m\u001b[1;33m\u001b[0m\u001b[1;33m\u001b[0m\u001b[0m\n\u001b[0m\u001b[0;32m     75\u001b[0m \u001b[1;33m\u001b[0m\u001b[0m\n\u001b[0;32m     76\u001b[0m     \u001b[1;32mdef\u001b[0m \u001b[0macquire_token_for_app\u001b[0m\u001b[1;33m(\u001b[0m\u001b[0mself\u001b[0m\u001b[1;33m,\u001b[0m \u001b[0mclient_id\u001b[0m\u001b[1;33m,\u001b[0m \u001b[0mclient_secret\u001b[0m\u001b[1;33m)\u001b[0m\u001b[1;33m:\u001b[0m\u001b[1;33m\u001b[0m\u001b[1;33m\u001b[0m\u001b[0m\n",
      "\u001b[1;32mN:\\Anaconda3\\lib\\site-packages\\office365\\runtime\\auth\\providers\\saml_token_provider.py\u001b[0m in \u001b[0;36mensure_authentication_cookie\u001b[1;34m(self)\u001b[0m\n\u001b[0;32m     82\u001b[0m     \u001b[1;32mdef\u001b[0m \u001b[0mensure_authentication_cookie\u001b[0m\u001b[1;33m(\u001b[0m\u001b[0mself\u001b[0m\u001b[1;33m)\u001b[0m\u001b[1;33m:\u001b[0m\u001b[1;33m\u001b[0m\u001b[1;33m\u001b[0m\u001b[0m\n\u001b[0;32m     83\u001b[0m         \u001b[1;32mif\u001b[0m \u001b[0mself\u001b[0m\u001b[1;33m.\u001b[0m\u001b[0m_cached_auth_cookies\u001b[0m \u001b[1;32mis\u001b[0m \u001b[1;32mNone\u001b[0m\u001b[1;33m:\u001b[0m\u001b[1;33m\u001b[0m\u001b[1;33m\u001b[0m\u001b[0m\n\u001b[1;32m---> 84\u001b[1;33m             \u001b[0mself\u001b[0m\u001b[1;33m.\u001b[0m\u001b[0m_cached_auth_cookies\u001b[0m \u001b[1;33m=\u001b[0m \u001b[0mself\u001b[0m\u001b[1;33m.\u001b[0m\u001b[0mget_authentication_cookie\u001b[0m\u001b[1;33m(\u001b[0m\u001b[1;33m)\u001b[0m\u001b[1;33m\u001b[0m\u001b[1;33m\u001b[0m\u001b[0m\n\u001b[0m\u001b[0;32m     85\u001b[0m         \u001b[1;32mreturn\u001b[0m \u001b[1;32mTrue\u001b[0m\u001b[1;33m\u001b[0m\u001b[1;33m\u001b[0m\u001b[0m\n\u001b[0;32m     86\u001b[0m \u001b[1;33m\u001b[0m\u001b[0m\n",
      "\u001b[1;32mN:\\Anaconda3\\lib\\site-packages\\office365\\runtime\\auth\\providers\\saml_token_provider.py\u001b[0m in \u001b[0;36mget_authentication_cookie\u001b[1;34m(self)\u001b[0m\n\u001b[0;32m     95\u001b[0m             \u001b[0muser_realm\u001b[0m \u001b[1;33m=\u001b[0m \u001b[0mself\u001b[0m\u001b[1;33m.\u001b[0m\u001b[0m_get_user_realm\u001b[0m\u001b[1;33m(\u001b[0m\u001b[1;33m)\u001b[0m\u001b[1;33m\u001b[0m\u001b[1;33m\u001b[0m\u001b[0m\n\u001b[0;32m     96\u001b[0m             \u001b[1;32mif\u001b[0m \u001b[0muser_realm\u001b[0m\u001b[1;33m.\u001b[0m\u001b[0mIsFederated\u001b[0m\u001b[1;33m:\u001b[0m\u001b[1;33m\u001b[0m\u001b[1;33m\u001b[0m\u001b[0m\n\u001b[1;32m---> 97\u001b[1;33m                 \u001b[0mtoken\u001b[0m \u001b[1;33m=\u001b[0m \u001b[0mself\u001b[0m\u001b[1;33m.\u001b[0m\u001b[0m_acquire_service_token_from_adfs\u001b[0m\u001b[1;33m(\u001b[0m\u001b[0muser_realm\u001b[0m\u001b[1;33m.\u001b[0m\u001b[0mSTSAuthUrl\u001b[0m\u001b[1;33m)\u001b[0m\u001b[1;33m\u001b[0m\u001b[1;33m\u001b[0m\u001b[0m\n\u001b[0m\u001b[0;32m     98\u001b[0m             \u001b[1;32melse\u001b[0m\u001b[1;33m:\u001b[0m\u001b[1;33m\u001b[0m\u001b[1;33m\u001b[0m\u001b[0m\n\u001b[0;32m     99\u001b[0m                 \u001b[0mtoken\u001b[0m \u001b[1;33m=\u001b[0m \u001b[0mself\u001b[0m\u001b[1;33m.\u001b[0m\u001b[0m_acquire_service_token\u001b[0m\u001b[1;33m(\u001b[0m\u001b[1;33m)\u001b[0m\u001b[1;33m\u001b[0m\u001b[1;33m\u001b[0m\u001b[0m\n",
      "\u001b[1;32mN:\\Anaconda3\\lib\\site-packages\\office365\\runtime\\auth\\providers\\saml_token_provider.py\u001b[0m in \u001b[0;36m_acquire_service_token_from_adfs\u001b[1;34m(self, adfs_url)\u001b[0m\n\u001b[0;32m    150\u001b[0m             response = requests.post(self._sts_profile.security_token_service_url, data=payload,\n\u001b[0;32m    151\u001b[0m                                      headers={'Content-Type': 'application/soap+xml'})\n\u001b[1;32m--> 152\u001b[1;33m             \u001b[0mtoken\u001b[0m \u001b[1;33m=\u001b[0m \u001b[0mself\u001b[0m\u001b[1;33m.\u001b[0m\u001b[0m_process_service_token_response\u001b[0m\u001b[1;33m(\u001b[0m\u001b[0mresponse\u001b[0m\u001b[1;33m)\u001b[0m\u001b[1;33m\u001b[0m\u001b[1;33m\u001b[0m\u001b[0m\n\u001b[0m\u001b[0;32m    153\u001b[0m             \u001b[0mlogger\u001b[0m\u001b[1;33m.\u001b[0m\u001b[0mdebug_secrets\u001b[0m\u001b[1;33m(\u001b[0m\u001b[1;34m'security token: %s'\u001b[0m\u001b[1;33m,\u001b[0m \u001b[0mtoken\u001b[0m\u001b[1;33m)\u001b[0m\u001b[1;33m\u001b[0m\u001b[1;33m\u001b[0m\u001b[0m\n\u001b[0;32m    154\u001b[0m             \u001b[1;32mreturn\u001b[0m \u001b[0mtoken\u001b[0m\u001b[1;33m\u001b[0m\u001b[1;33m\u001b[0m\u001b[0m\n",
      "\u001b[1;32mN:\\Anaconda3\\lib\\site-packages\\office365\\runtime\\auth\\providers\\saml_token_provider.py\u001b[0m in \u001b[0;36m_process_service_token_response\u001b[1;34m(self, response)\u001b[0m\n\u001b[0;32m    199\u001b[0m                 \u001b[0mself\u001b[0m\u001b[1;33m.\u001b[0m\u001b[0merror\u001b[0m \u001b[1;33m=\u001b[0m \u001b[1;34m'An error occurred while retrieving token from XML response: {0}'\u001b[0m\u001b[1;33m.\u001b[0m\u001b[0mformat\u001b[0m\u001b[1;33m(\u001b[0m\u001b[0merror\u001b[0m\u001b[1;33m.\u001b[0m\u001b[0mtext\u001b[0m\u001b[1;33m)\u001b[0m\u001b[1;33m\u001b[0m\u001b[1;33m\u001b[0m\u001b[0m\n\u001b[0;32m    200\u001b[0m             \u001b[0mlogger\u001b[0m\u001b[1;33m.\u001b[0m\u001b[0merror\u001b[0m\u001b[1;33m(\u001b[0m\u001b[0mself\u001b[0m\u001b[1;33m.\u001b[0m\u001b[0merror\u001b[0m\u001b[1;33m)\u001b[0m\u001b[1;33m\u001b[0m\u001b[1;33m\u001b[0m\u001b[0m\n\u001b[1;32m--> 201\u001b[1;33m             \u001b[1;32mraise\u001b[0m \u001b[0mValueError\u001b[0m\u001b[1;33m(\u001b[0m\u001b[0mself\u001b[0m\u001b[1;33m.\u001b[0m\u001b[0merror\u001b[0m\u001b[1;33m)\u001b[0m\u001b[1;33m\u001b[0m\u001b[1;33m\u001b[0m\u001b[0m\n\u001b[0m\u001b[0;32m    202\u001b[0m \u001b[1;33m\u001b[0m\u001b[0m\n\u001b[0;32m    203\u001b[0m         \u001b[1;31m# extract token\u001b[0m\u001b[1;33m\u001b[0m\u001b[1;33m\u001b[0m\u001b[1;33m\u001b[0m\u001b[0m\n",
      "\u001b[1;31mValueError\u001b[0m: An error occurred while retrieving token from XML response: AADSTS5000811: Unable to verify token signature. The signing key identifier does not match any valid registered keys."
     ]
    }
   ],
   "source": [
    "# https://github.com/vgrem/Office365-REST-Python-Client/blob/master/examples/sharepoint/files/upload_large_file.py\n",
    "#รันได้ ใช้สำหรับไฟล์ใหญ่เกิน 250 MB\n",
    "import pandas as pd\n",
    "t_start=pd.Timestamp.now()\n",
    "import keyring\n",
    "import os\n",
    "from office365.runtime.auth.authentication_context import AuthenticationContext\n",
    "from office365.sharepoint.client_context import ClientContext\n",
    "\n",
    "sharepoint_user = keyring.get_password(\"sharepointonline_username\", \"username\")\n",
    "sharepoint_pass = keyring.get_password(\"sharepointonline_pass\",\"password\")\n",
    "\n",
    "baseurl = 'https://irpcplc.sharepoint.com'\n",
    "basesite = '/sites/IRPCWebsite/PRO/EM' # every share point has a home.\n",
    "docurl = '/Shared%20Documents/SAPPM_Python_Uploaded'\n",
    "siteurl = baseurl + basesite \n",
    "target_url = basesite+docurl\n",
    "ctx_auth = AuthenticationContext(siteurl)\n",
    "ctx_auth.acquire_token_for_user(sharepoint_user, sharepoint_pass)\n",
    "ctx = ClientContext(siteurl, ctx_auth) # make sure you auth to the siteurl.\n",
    "\n",
    "# target_url = basesite+docurl\n",
    "target_folder = ctx.web.get_folder_by_server_relative_url(target_url)\n",
    "\n",
    "size_chunk = 250*1024**2\n",
    "\n",
    "local_path = ''\n",
    "\n",
    "# file_size = os.path.getsize(local_path)\n",
    "\n",
    "\n",
    "def print_upload_progress(offset):\n",
    "    file_size = os.path.getsize(local_path)\n",
    "    print(\"Uploaded '{}' bytes from '{}'...[{}%]\".format(offset, file_size, round(offset / file_size * 100, 2)))\n",
    "def upload_largefile2sharepoint(file2upload=local_path):\n",
    "    t_start=pd.Timestamp.now()\n",
    "    uploaded_file = target_folder.files.create_upload_session(file2upload, size_chunk, print_upload_progress).execute_query()\n",
    "    print('File {0} has been uploaded successfully'.format(uploaded_file.serverRelativeUrl))\n",
    "    print(f'Time2Upload {file2upload}: {pd.Timestamp.now()-t_start}')\n",
    "# def print_upload_progress(offset):\n",
    "#     file_size = os.path.getsize(local_path)\n",
    "#     print(\"Uploaded '{}' bytes from '{}'...[{}%]\".format(offset, file_size, round(offset / file_size * 100, 2)))\n",
    "# def upload_largefile2sharepoint(file2upload=local_path):\n",
    "#     t_start=pd.Timestamp.now()\n",
    "#     uploaded_file = target_folder.files.create_upload_session(file2upload, size_chunk, print_upload_progress).execute_query()\n",
    "#     print('File {0} has been uploaded successfully'.format(uploaded_file.serverRelativeUrl))\n",
    "#     print(f'Time2Upload {file2upload}: {pd.Timestamp.now()-t_start}')   "
   ]
  },
  {
   "cell_type": "code",
   "execution_count": 110,
   "metadata": {
    "tags": []
   },
   "outputs": [
    {
     "data": {
      "text/plain": [
       "True"
      ]
     },
     "execution_count": 110,
     "metadata": {},
     "output_type": "execute_result"
    }
   ],
   "source": [
    "ctx_auth.acquire_token_for_user(sharepoint_user, sharepoint_pass)"
   ]
  },
  {
   "cell_type": "markdown",
   "metadata": {},
   "source": [
    "# <font color='red'>SAPSUMMARY</font>"
   ]
  },
  {
   "cell_type": "code",
   "execution_count": 8,
   "metadata": {
    "scrolled": true
   },
   "outputs": [
    {
     "name": "stdout",
     "output_type": "stream",
     "text": [
      "DRIVER=ODBC Driver 17 for SQL Server;SERVER=10.33.18.153;DATABASE=MaDB;UID=maoper;PWD=maoper2012\n"
     ]
    }
   ],
   "source": [
    "driver = 'ODBC Driver 17 for SQL Server'\n",
    "server = '10.33.18.153'\n",
    "database = 'MaDB'\n",
    "uid = 'maoper'\n",
    "pwd = 'maoper2012'\n",
    "con_string = f'DRIVER={driver};SERVER={server};DATABASE={database};UID={uid};PWD={pwd}'\n",
    "print(con_string)\n",
    "con = pyodbc.connect(con_string)"
   ]
  },
  {
   "cell_type": "code",
   "execution_count": 10,
   "metadata": {
    "scrolled": true
   },
   "outputs": [
    {
     "name": "stdout",
     "output_type": "stream",
     "text": [
      "Time2Run SapSummary0 days 00:05:29.263816\n"
     ]
    }
   ],
   "source": [
    "#SAPSUMMARY\n",
    "t_start=pd.Timestamp.now()\n",
    "sql_cmd = \"\"\"\n",
    "SELECT  \n",
    "            QMNUM AS Noti, QMTXT AS NotiDesc, RTRIM(LEFT(STRNO,4)) AS Plant4, STRNO AS FL, PLTXT AS FLDesc, QMDAT AS NotiDate, AUSVN AS MalFnSt, \n",
    "            AUSBS AS MalFnEnd, STRMN AS ReqSt, LTRMN AS ReqEn, ERDAT AS NotiCreateDate, AEDAT AS NotiChanged, \n",
    "            EQUNR AS Eq, ARBPL AS MainWC, SWERK AS MtcePlant, NAME1 AS PlantName, KOSTL AS CCTR, MSAUS AS BreakdownInd,\n",
    "            [STATUS] AS NotiSysStatus, PRIOK AS NotiPri, PRIOKX AS NotiPriTxt, AUFNR AS [Order], AUART AS OrderType,\n",
    "            QMART AS NotiType, EQART as FLobjType, CLASS AS FLClass, STISDD AS WorkSt, ENISDD AS WorkFn,\n",
    "            DELDAT AS CancelDate, ACOST_S AS ActLaborCost, ACOST_MAT AS ActMatCost, ACOST_EXT AS ActExtCost,\n",
    "            AMTAUFNR AS AmountOfWorkOrder, ISMNW AS MH, ADDDATE AS DateForModifyRecord, YEAR(erdat) as NotiCreateYear\n",
    "            ,DATEDIFF(MINUTE,erdat,enisdd) as TTRMinute, [acost_s]+[acost_mat]+[acost_ext] as TotalCost,\n",
    "            [acost_mat]+[acost_ext] as CashCost,convert(int,right(QMNUM,8)) as notification\n",
    "FROM        SAPSUMMARY\n",
    "     \n",
    "\"\"\"\n",
    "sapsummary = pd.read_sql(sql_cmd,con)\n",
    "sapsummary.drop_duplicates(subset='Noti',keep='first',inplace=True)\n",
    "print(f'Time2Run SapSummary{pd.Timestamp.now()-t_start}')\n",
    "#sapsummary"
   ]
  },
  {
   "cell_type": "code",
   "execution_count": 11,
   "metadata": {},
   "outputs": [],
   "source": [
    "# t_start=pd.Timestamp.now()\n",
    "# sapsummary.to_csv('sapsummary.csv')\n",
    "# print(f'Time2Save SapSummary.csv{pd.Timestamp.now()-t_start}')"
   ]
  },
  {
   "cell_type": "code",
   "execution_count": 12,
   "metadata": {},
   "outputs": [],
   "source": [
    "# upload_largefile2sharepoint(file2upload='sapsummary.csv')"
   ]
  },
  {
   "cell_type": "code",
   "execution_count": 13,
   "metadata": {
    "tags": []
   },
   "outputs": [],
   "source": [
    "# localpath = \"sapsummary.csv\"\n",
    "# remotepath = 'Shared%20Documents/SAPPM/sapsummary.csv' # existing folder path under sharepoint site.\n",
    "# upload2sharepoint()"
   ]
  },
  {
   "cell_type": "code",
   "execution_count": 14,
   "metadata": {
    "tags": []
   },
   "outputs": [],
   "source": [
    "# localpath = \"my_file.zip\"\n",
    "# remotepath = 'Shared%20Documents/SAPPM/my_file.zip' # existing folder path under sharepoint site.\n",
    "# upload2sharepoint()"
   ]
  },
  {
   "cell_type": "code",
   "execution_count": 15,
   "metadata": {},
   "outputs": [],
   "source": [
    "# len(sapsummary)"
   ]
  },
  {
   "cell_type": "code",
   "execution_count": 16,
   "metadata": {},
   "outputs": [],
   "source": [
    "#sapsummary[sapsummary.duplicated(subset='Noti',keep=False)]"
   ]
  },
  {
   "cell_type": "code",
   "execution_count": 17,
   "metadata": {
    "scrolled": true
   },
   "outputs": [
    {
     "name": "stdout",
     "output_type": "stream",
     "text": [
      "Time2Run SapOrder0 days 00:02:10.589530\n"
     ]
    }
   ],
   "source": [
    "#SAPORDER\n",
    "t_start=pd.Timestamp.now()\n",
    "sql_cmd = \"\"\"\n",
    "WITH\n",
    "     b1 AS (\n",
    "            SELECT AUFNR as [Order_Order], max(ADDDATE) AS Order_AddDate\n",
    "            FROM SAPWORKORDER\n",
    "            GROUP BY AUFNR),\n",
    "     b AS (\n",
    "            Select \n",
    "                AUFNR as [Order_Order],KTEXT AS [OrderDesc] , ILART AS [MainActType] , ERDAT AS [OrderCreateDate] , \n",
    "                IDAT2 AS [TecoDate], STATUS AS [OrderSysStatus] , MAUFNR AS [Superior Order], ADDDATE, \n",
    "                userstatus AS [OrderUserStatus], GSTRP AS [OrderBasicStart], GLTRP AS [OrderBasicFinish]\n",
    "            from SAPWORKORDER x\n",
    "\n",
    "            inner join b1 on x.AUFNR=b1.Order_Order and x.ADDDATE=b1.Order_AddDate\n",
    "            Group by AUFNR,KTEXT,ILART,ERDAT,IDAT2,STATUS,MAUFNR,ADDDATE,userstatus,GSTRP,GLTRP)\n",
    "\n",
    "SELECT *\n",
    "FROM b\n",
    "     \n",
    "\"\"\"\n",
    "saporder = pd.read_sql(sql_cmd,con)\n",
    "saporder.drop_duplicates(subset='Order_Order',keep='first',inplace=True)\n",
    "print(f'Time2Run SapOrder{pd.Timestamp.now()-t_start}')\n",
    "#sapsummary"
   ]
  },
  {
   "cell_type": "code",
   "execution_count": 18,
   "metadata": {},
   "outputs": [
    {
     "data": {
      "text/plain": [
       "Index(['Order_Order', 'OrderDesc', 'MainActType', 'OrderCreateDate',\n",
       "       'TecoDate', 'OrderSysStatus', 'Superior Order', 'ADDDATE',\n",
       "       'OrderUserStatus', 'OrderBasicStart', 'OrderBasicFinish'],\n",
       "      dtype='object')"
      ]
     },
     "execution_count": 18,
     "metadata": {},
     "output_type": "execute_result"
    }
   ],
   "source": [
    "saporder.columns"
   ]
  },
  {
   "cell_type": "code",
   "execution_count": 19,
   "metadata": {},
   "outputs": [],
   "source": [
    "#saporder[saporder.duplicated(subset='Order_Order',keep=False)]"
   ]
  },
  {
   "cell_type": "code",
   "execution_count": 20,
   "metadata": {},
   "outputs": [
    {
     "name": "stdout",
     "output_type": "stream",
     "text": [
      "Time2Run enfo_saporder0 days 00:01:43.929962\n"
     ]
    }
   ],
   "source": [
    "# enfo_saporder\n",
    "t_start=pd.Timestamp.now()\n",
    "sql_cmd = \"\"\"\n",
    "SELECT  \n",
    "            AUFNR AS [Order_Order], KTEXT AS [Order_Desc], VAPLZ AS [Order_MainWC], AUART AS [Order_Type], ILART AS [Order_MainActType], \n",
    "            ERDAT AS [Order_CreateDate], EQUNR AS [Order_Eq], STRNO AS [Order_FL], QMNUM AS [Order_Noti], ACOST_S AS [Order_IRPCMHCost], \n",
    "            ACOST_MAT AS [Order_MatCost], ACOST_SERL AS [Order_LaborCost], ACOST_SERM AS [Order_ServiceCost], ACOST_SERQ AS [Order_ServiceEqCost], \n",
    "            STISDD AS [Order_Start], ENISDD AS [Order_Finish], ISMNW AS [Order_MH], STATUS AS [Order_SysStatus], MAUFNR AS [Order_SupOrder], \n",
    "            userstatus AS [Order_UserStatus], IDAT2 AS [Order_TecoDate]\n",
    "\n",
    "FROM        SAPWORKORDER\n",
    "WHERE       year(ERDAT)>=2018 and AUART < 'PM09'\n",
    "     \n",
    "\"\"\"\n",
    "enfo_saporder = pd.read_sql(sql_cmd,con)\n",
    "enfo_saporder.drop_duplicates(subset='Order_Order',keep='first',inplace=True)\n",
    "enfo_saporder['Order_TotalCost'] = enfo_saporder.Order_LaborCost+enfo_saporder.Order_MatCost+enfo_saporder.Order_IRPCMHCost+enfo_saporder.Order_ServiceCost+enfo_saporder.Order_ServiceEqCost\n",
    "enfo_saporder['Order_CashCost'] = enfo_saporder.Order_LaborCost+enfo_saporder.Order_MatCost+enfo_saporder.Order_ServiceCost+enfo_saporder.Order_ServiceEqCost\n",
    "print(f'Time2Run enfo_saporder{pd.Timestamp.now()-t_start}')\n",
    "#sapsummary"
   ]
  },
  {
   "cell_type": "code",
   "execution_count": 21,
   "metadata": {
    "scrolled": true
   },
   "outputs": [
    {
     "name": "stdout",
     "output_type": "stream",
     "text": [
      "Time2Run SapNotification0 days 00:00:47.075205\n"
     ]
    }
   ],
   "source": [
    "#SAPNOTIFICATION\n",
    "t_start=pd.Timestamp.now()\n",
    "sql_cmd = \"\"\"\n",
    "SELECT \n",
    "        QMNUM AS Noti_noti,INGRP as plannergroup, QMGRP as failuremode_codegroup, QMCOD as failuemode_id, \n",
    "\t\tQMCOD_D as failuremode, userstatus as NotiUserStatus, notxt as notilongtxt, inspk as ref_pm_order,\n",
    "        ROOMNUMBER1 as NotiCreateByID, ROOMNUMBER2 as NotiCompleteByID\n",
    "FROM    SAPNOTIFICATION\n",
    "\"\"\"\n",
    "sapnotification = pd.read_sql(sql_cmd,con)\n",
    "sapnotification.drop_duplicates(subset='Noti_noti',keep='first',inplace=True)\n",
    "print(f'Time2Run SapNotification{pd.Timestamp.now()-t_start}')"
   ]
  },
  {
   "cell_type": "code",
   "execution_count": 22,
   "metadata": {},
   "outputs": [
    {
     "data": {
      "text/html": [
       "<div>\n",
       "<style scoped>\n",
       "    .dataframe tbody tr th:only-of-type {\n",
       "        vertical-align: middle;\n",
       "    }\n",
       "\n",
       "    .dataframe tbody tr th {\n",
       "        vertical-align: top;\n",
       "    }\n",
       "\n",
       "    .dataframe thead th {\n",
       "        text-align: right;\n",
       "    }\n",
       "</style>\n",
       "<table border=\"1\" class=\"dataframe\">\n",
       "  <thead>\n",
       "    <tr style=\"text-align: right;\">\n",
       "      <th></th>\n",
       "      <th>Noti_noti</th>\n",
       "      <th>plannergroup</th>\n",
       "      <th>failuremode_codegroup</th>\n",
       "      <th>failuemode_id</th>\n",
       "      <th>failuremode</th>\n",
       "      <th>NotiUserStatus</th>\n",
       "      <th>notilongtxt</th>\n",
       "      <th>ref_pm_order</th>\n",
       "      <th>NotiCreateByID</th>\n",
       "      <th>NotiCompleteByID</th>\n",
       "    </tr>\n",
       "  </thead>\n",
       "  <tbody>\n",
       "    <tr>\n",
       "      <th>0</th>\n",
       "      <td>000010232822</td>\n",
       "      <td>S14</td>\n",
       "      <td></td>\n",
       "      <td></td>\n",
       "      <td>None</td>\n",
       "      <td>None</td>\n",
       "      <td>None</td>\n",
       "      <td>None</td>\n",
       "      <td>None</td>\n",
       "      <td>None</td>\n",
       "    </tr>\n",
       "    <tr>\n",
       "      <th>1</th>\n",
       "      <td>000010232823</td>\n",
       "      <td>S16</td>\n",
       "      <td></td>\n",
       "      <td></td>\n",
       "      <td>None</td>\n",
       "      <td>None</td>\n",
       "      <td>None</td>\n",
       "      <td>None</td>\n",
       "      <td>None</td>\n",
       "      <td>None</td>\n",
       "    </tr>\n",
       "    <tr>\n",
       "      <th>2</th>\n",
       "      <td>000020712794</td>\n",
       "      <td>S15</td>\n",
       "      <td></td>\n",
       "      <td></td>\n",
       "      <td>None</td>\n",
       "      <td>None</td>\n",
       "      <td>None</td>\n",
       "      <td>None</td>\n",
       "      <td>None</td>\n",
       "      <td>None</td>\n",
       "    </tr>\n",
       "    <tr>\n",
       "      <th>3</th>\n",
       "      <td>000020712795</td>\n",
       "      <td>S15</td>\n",
       "      <td></td>\n",
       "      <td></td>\n",
       "      <td>None</td>\n",
       "      <td>None</td>\n",
       "      <td>None</td>\n",
       "      <td>None</td>\n",
       "      <td>None</td>\n",
       "      <td>None</td>\n",
       "    </tr>\n",
       "    <tr>\n",
       "      <th>4</th>\n",
       "      <td>000070041543</td>\n",
       "      <td>S13</td>\n",
       "      <td></td>\n",
       "      <td></td>\n",
       "      <td>None</td>\n",
       "      <td>None</td>\n",
       "      <td>None</td>\n",
       "      <td>None</td>\n",
       "      <td>None</td>\n",
       "      <td>None</td>\n",
       "    </tr>\n",
       "    <tr>\n",
       "      <th>...</th>\n",
       "      <td>...</td>\n",
       "      <td>...</td>\n",
       "      <td>...</td>\n",
       "      <td>...</td>\n",
       "      <td>...</td>\n",
       "      <td>...</td>\n",
       "      <td>...</td>\n",
       "      <td>...</td>\n",
       "      <td>...</td>\n",
       "      <td>...</td>\n",
       "    </tr>\n",
       "    <tr>\n",
       "      <th>2379840</th>\n",
       "      <td>000010727223</td>\n",
       "      <td>RRC</td>\n",
       "      <td></td>\n",
       "      <td></td>\n",
       "      <td>None</td>\n",
       "      <td>APPR</td>\n",
       "      <td>ไฟส่อง LG ของ boot น้ำ 52D011 ขาด</td>\n",
       "      <td></td>\n",
       "      <td>00005238</td>\n",
       "      <td>00000670</td>\n",
       "    </tr>\n",
       "    <tr>\n",
       "      <th>2379841</th>\n",
       "      <td>000010727229</td>\n",
       "      <td>PP2</td>\n",
       "      <td></td>\n",
       "      <td></td>\n",
       "      <td>None</td>\n",
       "      <td>APPR</td>\n",
       "      <td></td>\n",
       "      <td></td>\n",
       "      <td>00005066</td>\n",
       "      <td>00005094</td>\n",
       "    </tr>\n",
       "    <tr>\n",
       "      <th>2379842</th>\n",
       "      <td>000010727230</td>\n",
       "      <td>PP2</td>\n",
       "      <td></td>\n",
       "      <td></td>\n",
       "      <td>None</td>\n",
       "      <td>APPR</td>\n",
       "      <td></td>\n",
       "      <td></td>\n",
       "      <td>00004460</td>\n",
       "      <td>00004476</td>\n",
       "    </tr>\n",
       "    <tr>\n",
       "      <th>2379843</th>\n",
       "      <td>000010727231</td>\n",
       "      <td>RLB</td>\n",
       "      <td></td>\n",
       "      <td></td>\n",
       "      <td>None</td>\n",
       "      <td>APPR</td>\n",
       "      <td>Renew ใบพัด 03E012Lเนื่องจากการปรับปรุงเรื่องก...</td>\n",
       "      <td></td>\n",
       "      <td>00004160</td>\n",
       "      <td>00004116</td>\n",
       "    </tr>\n",
       "    <tr>\n",
       "      <th>2379844</th>\n",
       "      <td>000010727232</td>\n",
       "      <td>RRC</td>\n",
       "      <td></td>\n",
       "      <td></td>\n",
       "      <td>None</td>\n",
       "      <td>APPR ENVI</td>\n",
       "      <td>71E003B-K01A มีเสียงดัง</td>\n",
       "      <td></td>\n",
       "      <td>00006439</td>\n",
       "      <td>30635398</td>\n",
       "    </tr>\n",
       "  </tbody>\n",
       "</table>\n",
       "<p>2379844 rows × 10 columns</p>\n",
       "</div>"
      ],
      "text/plain": [
       "            Noti_noti plannergroup failuremode_codegroup failuemode_id  \\\n",
       "0        000010232822          S14                                       \n",
       "1        000010232823          S16                                       \n",
       "2        000020712794          S15                                       \n",
       "3        000020712795          S15                                       \n",
       "4        000070041543          S13                                       \n",
       "...               ...          ...                   ...           ...   \n",
       "2379840  000010727223          RRC                                       \n",
       "2379841  000010727229          PP2                                       \n",
       "2379842  000010727230          PP2                                       \n",
       "2379843  000010727231          RLB                                       \n",
       "2379844  000010727232          RRC                                       \n",
       "\n",
       "        failuremode NotiUserStatus  \\\n",
       "0              None           None   \n",
       "1              None           None   \n",
       "2              None           None   \n",
       "3              None           None   \n",
       "4              None           None   \n",
       "...             ...            ...   \n",
       "2379840        None           APPR   \n",
       "2379841        None           APPR   \n",
       "2379842        None           APPR   \n",
       "2379843        None           APPR   \n",
       "2379844        None      APPR ENVI   \n",
       "\n",
       "                                               notilongtxt ref_pm_order  \\\n",
       "0                                                     None         None   \n",
       "1                                                     None         None   \n",
       "2                                                     None         None   \n",
       "3                                                     None         None   \n",
       "4                                                     None         None   \n",
       "...                                                    ...          ...   \n",
       "2379840                  ไฟส่อง LG ของ boot น้ำ 52D011 ขาด                \n",
       "2379841                                                                   \n",
       "2379842                                                                   \n",
       "2379843  Renew ใบพัด 03E012Lเนื่องจากการปรับปรุงเรื่องก...                \n",
       "2379844                            71E003B-K01A มีเสียงดัง                \n",
       "\n",
       "        NotiCreateByID NotiCompleteByID  \n",
       "0                 None             None  \n",
       "1                 None             None  \n",
       "2                 None             None  \n",
       "3                 None             None  \n",
       "4                 None             None  \n",
       "...                ...              ...  \n",
       "2379840       00005238         00000670  \n",
       "2379841       00005066         00005094  \n",
       "2379842       00004460         00004476  \n",
       "2379843       00004160         00004116  \n",
       "2379844       00006439         30635398  \n",
       "\n",
       "[2379844 rows x 10 columns]"
      ]
     },
     "execution_count": 22,
     "metadata": {},
     "output_type": "execute_result"
    }
   ],
   "source": [
    "sapnotification"
   ]
  },
  {
   "cell_type": "code",
   "execution_count": 23,
   "metadata": {},
   "outputs": [],
   "source": [
    "#employee code\n",
    "#t_start=pd.Timestamp.now()\n",
    "#sql_cmd = \"\"\"\n",
    "#SELECT \n",
    "#        *\n",
    "#FROM    master_employee\n",
    "#\"\"\"\n",
    "#employee_master = pd.read_sql(sql_cmd,con)\n",
    "##sapnotification.drop_duplicates(subset='Noti_noti',keep='first',inplace=True)\n",
    "#print(f'Time2Run employee master{pd.Timestamp.now()-t_start}')"
   ]
  },
  {
   "cell_type": "code",
   "execution_count": 24,
   "metadata": {},
   "outputs": [],
   "source": [
    "#employee_code = employee_master[['employee_id','name_surname_th','section_en']]"
   ]
  },
  {
   "cell_type": "code",
   "execution_count": 25,
   "metadata": {},
   "outputs": [],
   "source": [
    "#sapnotification = sapnotification.merge(employee_code,left_on='NotiCreateByID',right_on='employee_id',how='left')\n",
    "#sapnotification.rename(columns={'name_surname_th':'NotiCreateBy','section_en':'NotiCreateSec'},inplace=True)\n",
    "#sapnotification = sapnotification.merge(employee_code,left_on='NotiCompleteByID',right_on='employee_id',how='left')\n",
    "#sapnotification.rename(columns={'name_surname_th':'NotiCompleteBy','section_en':'NotiCompleteSec'},inplace=True)"
   ]
  },
  {
   "cell_type": "code",
   "execution_count": 26,
   "metadata": {
    "scrolled": true
   },
   "outputs": [
    {
     "name": "stdout",
     "output_type": "stream",
     "text": [
      "DRIVER=ODBC Driver 17 for SQL Server;SERVER=10.31.1.41;DATABASE=Intranet;UID=ma_reader;PWD=passw0rd@1\n"
     ]
    }
   ],
   "source": [
    "driver = 'ODBC Driver 17 for SQL Server'\n",
    "server = '10.31.1.41'\n",
    "database = 'Intranet'\n",
    "uid = 'ma_reader'\n",
    "pwd = 'passw0rd@1'\n",
    "con_string = f'DRIVER={driver};SERVER={server};DATABASE={database};UID={uid};PWD={pwd}'\n",
    "print(con_string)\n",
    "con = pyodbc.connect(con_string)"
   ]
  },
  {
   "cell_type": "code",
   "execution_count": 27,
   "metadata": {},
   "outputs": [
    {
     "name": "stdout",
     "output_type": "stream",
     "text": [
      "Time2Run employee master0 days 00:00:00.896024\n"
     ]
    }
   ],
   "source": [
    "#employee code\n",
    "t_start=pd.Timestamp.now()\n",
    "sql_cmd = \"\"\"\n",
    "SELECT \n",
    "        *\n",
    "FROM    vw_getEmployee\n",
    "\"\"\"\n",
    "employee = pd.read_sql(sql_cmd,con)\n",
    "#sapnotification.drop_duplicates(subset='Noti_noti',keep='first',inplace=True)\n",
    "print(f'Time2Run employee master{pd.Timestamp.now()-t_start}')"
   ]
  },
  {
   "cell_type": "code",
   "execution_count": 28,
   "metadata": {},
   "outputs": [],
   "source": [
    "employee_code = employee[['EmpId','THName','OrgShortD']]"
   ]
  },
  {
   "cell_type": "code",
   "execution_count": 29,
   "metadata": {},
   "outputs": [
    {
     "data": {
      "text/html": [
       "<div>\n",
       "<style scoped>\n",
       "    .dataframe tbody tr th:only-of-type {\n",
       "        vertical-align: middle;\n",
       "    }\n",
       "\n",
       "    .dataframe tbody tr th {\n",
       "        vertical-align: top;\n",
       "    }\n",
       "\n",
       "    .dataframe thead th {\n",
       "        text-align: right;\n",
       "    }\n",
       "</style>\n",
       "<table border=\"1\" class=\"dataframe\">\n",
       "  <thead>\n",
       "    <tr style=\"text-align: right;\">\n",
       "      <th></th>\n",
       "      <th>EmpId</th>\n",
       "      <th>THName</th>\n",
       "      <th>OrgShortD</th>\n",
       "    </tr>\n",
       "  </thead>\n",
       "  <tbody>\n",
       "    <tr>\n",
       "      <th>7424</th>\n",
       "      <td>00008415</td>\n",
       "      <td>นาย วีระชัย วงค์ตะลา</td>\n",
       "      <td>DIV PWRD</td>\n",
       "    </tr>\n",
       "    <tr>\n",
       "      <th>7425</th>\n",
       "      <td>00008421</td>\n",
       "      <td>น.ส. วันทนีย์ ทิพย์สุนาวี</td>\n",
       "      <td>DEP CSSI</td>\n",
       "    </tr>\n",
       "    <tr>\n",
       "      <th>7426</th>\n",
       "      <td>00008423</td>\n",
       "      <td>MR. Nobuyuki Nakashima</td>\n",
       "      <td>GRO CCCM</td>\n",
       "    </tr>\n",
       "  </tbody>\n",
       "</table>\n",
       "</div>"
      ],
      "text/plain": [
       "         EmpId                     THName             OrgShortD\n",
       "7424  00008415       นาย วีระชัย วงค์ตะลา  DIV PWRD            \n",
       "7425  00008421  น.ส. วันทนีย์ ทิพย์สุนาวี  DEP CSSI            \n",
       "7426  00008423     MR. Nobuyuki Nakashima  GRO CCCM            "
      ]
     },
     "execution_count": 29,
     "metadata": {},
     "output_type": "execute_result"
    }
   ],
   "source": [
    "employee_code.tail(3)"
   ]
  },
  {
   "cell_type": "code",
   "execution_count": 30,
   "metadata": {},
   "outputs": [],
   "source": [
    "sapnotification = sapnotification.merge(employee_code,left_on='NotiCreateByID',right_on='EmpId',how='left')\n",
    "sapnotification.rename(columns={'THName':'NotiCreateBy','OrgShortD':'NotiCreateSec'},inplace=True)\n",
    "sapnotification = sapnotification.merge(employee_code,left_on='NotiCompleteByID',right_on='EmpId',how='left')\n",
    "sapnotification.rename(columns={'THName':'NotiCompleteBy','OrgShortD':'NotiCompleteSec'},inplace=True)"
   ]
  },
  {
   "cell_type": "code",
   "execution_count": 31,
   "metadata": {},
   "outputs": [
    {
     "data": {
      "text/plain": [
       "Index(['Noti_noti', 'plannergroup', 'failuremode_codegroup', 'failuemode_id',\n",
       "       'failuremode', 'NotiUserStatus', 'notilongtxt', 'ref_pm_order',\n",
       "       'NotiCreateByID', 'NotiCompleteByID', 'EmpId_x', 'NotiCreateBy',\n",
       "       'NotiCreateSec', 'EmpId_y', 'NotiCompleteBy', 'NotiCompleteSec'],\n",
       "      dtype='object')"
      ]
     },
     "execution_count": 31,
     "metadata": {},
     "output_type": "execute_result"
    }
   ],
   "source": [
    "sapnotification.columns"
   ]
  },
  {
   "cell_type": "code",
   "execution_count": 32,
   "metadata": {},
   "outputs": [],
   "source": [
    "#sapnotification[sapnotification.duplicated(subset='Noti_noti',keep=False)]"
   ]
  },
  {
   "cell_type": "code",
   "execution_count": 33,
   "metadata": {},
   "outputs": [
    {
     "name": "stdout",
     "output_type": "stream",
     "text": [
      "Time2Merge sapnotification = 0 days 00:00:13.990998\n"
     ]
    }
   ],
   "source": [
    "t_start = pd.Timestamp.now()\n",
    "sapsummary = sapsummary.merge(sapnotification,left_on='Noti',right_on='Noti_noti',how='left')\n",
    "print(f'Time2Merge sapnotification = {pd.Timestamp.now()-t_start}')"
   ]
  },
  {
   "cell_type": "code",
   "execution_count": 34,
   "metadata": {},
   "outputs": [],
   "source": [
    "#sapsummary[sapsummary.duplicated(subset='Noti',keep=False)]"
   ]
  },
  {
   "cell_type": "code",
   "execution_count": 35,
   "metadata": {},
   "outputs": [
    {
     "name": "stdout",
     "output_type": "stream",
     "text": [
      "Time2Merge order = 0 days 00:00:15.783998\n"
     ]
    }
   ],
   "source": [
    "t_start = pd.Timestamp.now()\n",
    "sapsummary = sapsummary.merge(saporder,left_on='Order',right_on='Order_Order',how='left')\n",
    "print(f'Time2Merge order = {pd.Timestamp.now()-t_start}')"
   ]
  },
  {
   "cell_type": "code",
   "execution_count": 36,
   "metadata": {},
   "outputs": [],
   "source": [
    "#sapsummary[sapsummary.duplicated(subset='Noti',keep=False)]"
   ]
  },
  {
   "cell_type": "markdown",
   "metadata": {},
   "source": [
    "# <font color='red'>PMWH</font>"
   ]
  },
  {
   "cell_type": "code",
   "execution_count": 37,
   "metadata": {
    "scrolled": true
   },
   "outputs": [
    {
     "name": "stdout",
     "output_type": "stream",
     "text": [
      "DRIVER=ODBC Driver 17 for SQL Server;SERVER=10.31.1.72;DATABASE=PMWH;UID=pm_reader;PWD=pmreader@2020\n",
      "Time to call FLEQ server = 0 days 00:00:00.267006\n"
     ]
    }
   ],
   "source": [
    "t1_start = pd.Timestamp.now()\n",
    "driver = 'ODBC Driver 17 for SQL Server'\n",
    "server = '10.31.1.72'\n",
    "# database = 'Demo'\n",
    "database = 'PMWH'\n",
    "uid = 'pm_reader'\n",
    "pwd = 'pmreader@2020'\n",
    "con_string = f'DRIVER={driver};SERVER={server};DATABASE={database};UID={uid};PWD={pwd}'\n",
    "print(con_string)\n",
    "con = pyodbc.connect(con_string)\n",
    "print(f'Time to call FLEQ server = {pd.Timestamp.now()-t1_start}')"
   ]
  },
  {
   "cell_type": "markdown",
   "metadata": {},
   "source": [
    "## <font color='blue'>Functional Location Data</font>"
   ]
  },
  {
   "cell_type": "code",
   "execution_count": 38,
   "metadata": {},
   "outputs": [
    {
     "name": "stdout",
     "output_type": "stream",
     "text": [
      "Time2Run fldf = 0 days 00:00:10.707972\n"
     ]
    }
   ],
   "source": [
    "# get data from MaDB SAPSUMMARY\n",
    "t1_start = pd.Timestamp.now()\n",
    "\n",
    "sql_cmd = \"\"\"\n",
    "    select  [TPLNR] AS [flid], [STRNO] AS [fl], [TPLKZ] AS [flstrid], [FLTYP] AS [mei], [PLTXT] AS [fltxt],\n",
    "    [TPLMA] AS [supflid], [STRNO_SUP] AS [supfl], [EQART] AS [fltype], [OBJNR] AS [Object number],\n",
    "    [HERST] AS [Manufacturer of asset], [SERGE] AS [Manufacturer serial number], [TYPB] AS [Manufacturer model number],\n",
    "    [POSNR] AS [Position in superior technical object], [ABCKZ] AS [FLabc], [SWERK] AS [Maintenance plant],\n",
    "    [IWERK] AS [Maintenance Planning Plant], [INGRP] AS [Planner Group], [GEWRK] AS [Maintenance Work Center ID],\n",
    "    [workcenterName] AS [Maintenance Work Center Name], [RBNR] AS [Catalog Profile], [GSBER] AS [Business Area],\n",
    "    [KOKRS] AS [Controlling Area], [KOSTL] AS [Cost Center], [BUKRS] AS [Company Code],\n",
    "    [STAT] AS [flstatus], [AEDAT] AS [flchange]\n",
    "\n",
    "\n",
    "        from dbo.vw_func \n",
    "\n",
    "\"\"\"\n",
    "fldf = pd.read_sql(sql_cmd,con)\n",
    "fldf.drop_duplicates(subset='fl',keep='first',inplace=True)\n",
    "print(f'Time2Run fldf = {pd.Timestamp.now()-t1_start}')"
   ]
  },
  {
   "cell_type": "code",
   "execution_count": 39,
   "metadata": {},
   "outputs": [
    {
     "name": "stdout",
     "output_type": "stream",
     "text": [
      "Time2Save eqdf = 0 days 00:01:56.678783\n"
     ]
    }
   ],
   "source": [
    "t1_start = pd.Timestamp.now()\n",
    "fldf.to_excel(saved_dir+'fldf.xlsx',encoding='UTF-8',index=False)\n",
    "print(f'Time2Save eqdf = {pd.Timestamp.now()-t1_start}')"
   ]
  },
  {
   "cell_type": "code",
   "execution_count": 40,
   "metadata": {},
   "outputs": [
    {
     "ename": "NameError",
     "evalue": "name 'upload_largefile2sharepoint' is not defined",
     "output_type": "error",
     "traceback": [
      "\u001b[1;31m---------------------------------------------------------------------------\u001b[0m",
      "\u001b[1;31mNameError\u001b[0m                                 Traceback (most recent call last)",
      "\u001b[1;32m<ipython-input-40-acbe4446ba9f>\u001b[0m in \u001b[0;36m<module>\u001b[1;34m\u001b[0m\n\u001b[0;32m      1\u001b[0m \u001b[0mlocal_path\u001b[0m \u001b[1;33m=\u001b[0m \u001b[0msaved_dir\u001b[0m\u001b[1;33m+\u001b[0m\u001b[1;34m'fldf.xlsx'\u001b[0m\u001b[1;33m\u001b[0m\u001b[1;33m\u001b[0m\u001b[0m\n\u001b[1;32m----> 2\u001b[1;33m \u001b[0mupload_largefile2sharepoint\u001b[0m\u001b[1;33m(\u001b[0m\u001b[0mlocal_path\u001b[0m\u001b[1;33m)\u001b[0m\u001b[1;33m\u001b[0m\u001b[1;33m\u001b[0m\u001b[0m\n\u001b[0m",
      "\u001b[1;31mNameError\u001b[0m: name 'upload_largefile2sharepoint' is not defined"
     ]
    }
   ],
   "source": [
    "local_path = saved_dir+'fldf.xlsx'\n",
    "upload_largefile2sharepoint(local_path)"
   ]
  },
  {
   "cell_type": "code",
   "execution_count": null,
   "metadata": {},
   "outputs": [],
   "source": [
    "#fldf.duplicated(keep=False).sum()"
   ]
  },
  {
   "cell_type": "markdown",
   "metadata": {},
   "source": [
    "## <font color='blue'>Equipment Data</font>"
   ]
  },
  {
   "cell_type": "code",
   "execution_count": 41,
   "metadata": {},
   "outputs": [
    {
     "name": "stdout",
     "output_type": "stream",
     "text": [
      "Time2Run eqdf = 0 days 00:00:11.582545\n"
     ]
    }
   ],
   "source": [
    "# get data from PMWH Equipment data\n",
    "t1_start = pd.Timestamp.now()\n",
    "\n",
    "sql_cmd = \"\"\"\n",
    "    select  [EQUNR] AS [eq], [EQKTX] AS [eqtxt], [EQTYP] AS [mei], [EQART] AS [eqtype], [OBJNR] AS [Object number],\n",
    "    [HERST] AS [Manufacturer of asset], [SERGE] AS [Manufacturer serial number], [TYPB] AS [Manufacturer model number],\n",
    "    [ABCKZ] AS [Eqabc], [SWERK] AS [Maintenance plant], [IWERK] AS [Maintenance Planning Plant], [INGRP] AS [Planner Group],\n",
    "    [GEWRK] AS [mainwcid], [workcenterName] AS [mainwc], [RBNR] AS [catalog], [GSBER] AS [Business Area],\n",
    "    [KOKRS] AS [Controlling Area], [KOSTL] AS [Cost Center], [BUKRS] AS [Company Code], [STAT] AS [eqstatus],\n",
    "    [AEDAT] AS [eqchangedate], [TPLNR] AS [fl], [classDescr] AS eqclass\n",
    "\n",
    "\n",
    "    from dbo.vw_equipment a\n",
    "\tleft join vw_equipment_class b\n",
    "\ton a.EQUNR=b.equipment\n",
    "\n",
    "\"\"\"\n",
    "eqdf = pd.read_sql(sql_cmd,con)\n",
    "eqdf.drop_duplicates(subset='eq',keep='first',inplace=True)\n",
    "print(f'Time2Run eqdf = {pd.Timestamp.now()-t1_start}')"
   ]
  },
  {
   "cell_type": "code",
   "execution_count": 42,
   "metadata": {},
   "outputs": [
    {
     "name": "stdout",
     "output_type": "stream",
     "text": [
      "Time2Save eqdf = 0 days 00:02:01.186082\n"
     ]
    }
   ],
   "source": [
    "t1_start = pd.Timestamp.now()\n",
    "eqdf.to_excel(saved_dir+'eqdf.xlsx',encoding='UTF-8',index=False)\n",
    "print(f'Time2Save eqdf = {pd.Timestamp.now()-t1_start}')"
   ]
  },
  {
   "cell_type": "code",
   "execution_count": 43,
   "metadata": {},
   "outputs": [
    {
     "ename": "NameError",
     "evalue": "name 'upload_largefile2sharepoint' is not defined",
     "output_type": "error",
     "traceback": [
      "\u001b[1;31m---------------------------------------------------------------------------\u001b[0m",
      "\u001b[1;31mNameError\u001b[0m                                 Traceback (most recent call last)",
      "\u001b[1;32m<ipython-input-43-02f36105bea4>\u001b[0m in \u001b[0;36m<module>\u001b[1;34m\u001b[0m\n\u001b[0;32m      1\u001b[0m \u001b[0mlocal_path\u001b[0m \u001b[1;33m=\u001b[0m \u001b[0msaved_dir\u001b[0m\u001b[1;33m+\u001b[0m\u001b[1;34m'eqdf.xlsx'\u001b[0m\u001b[1;33m\u001b[0m\u001b[1;33m\u001b[0m\u001b[0m\n\u001b[1;32m----> 2\u001b[1;33m \u001b[0mupload_largefile2sharepoint\u001b[0m\u001b[1;33m(\u001b[0m\u001b[0mlocal_path\u001b[0m\u001b[1;33m)\u001b[0m\u001b[1;33m\u001b[0m\u001b[1;33m\u001b[0m\u001b[0m\n\u001b[0m",
      "\u001b[1;31mNameError\u001b[0m: name 'upload_largefile2sharepoint' is not defined"
     ]
    }
   ],
   "source": [
    "local_path = saved_dir+'eqdf.xlsx'\n",
    "upload_largefile2sharepoint(local_path)"
   ]
  },
  {
   "cell_type": "code",
   "execution_count": null,
   "metadata": {},
   "outputs": [],
   "source": [
    "#eqdf.duplicated(keep=False).sum()"
   ]
  },
  {
   "cell_type": "markdown",
   "metadata": {},
   "source": [
    "## <font color='blue'>IW22 Item Tab</font>"
   ]
  },
  {
   "cell_type": "code",
   "execution_count": 44,
   "metadata": {},
   "outputs": [
    {
     "name": "stdout",
     "output_type": "stream",
     "text": [
      "Time2Run fme_part = 0 days 00:00:02.870644\n"
     ]
    }
   ],
   "source": [
    "# get data from PMWH Tab item data\n",
    "t1_start = pd.Timestamp.now()\n",
    "\n",
    "sql_cmd = \"\"\"\n",
    "    select  QMNUM as noti, FENUM as itemnr, FETXT as notitxt, FEKAT as cattype_failuremech, FEGRP as failuremech_codegroup,\n",
    "    FEGRPD as failuremech_codegroupdesc, FECOD as failuermech_id, FECODD as failuremech, OTGRP mtceitem_codegroup,\n",
    "    OTGRPD as mtceitem_subunit, OTCOD as mtceitem_id, OTCODD as mtceitem_part, changeDate as notichangedate\n",
    "\n",
    "    from dbo.vw_qmfe \n",
    "    where fenum = 1\n",
    "\n",
    "\"\"\"\n",
    "fme_part= pd.read_sql(sql_cmd,con)\n",
    "fme_part.drop_duplicates(subset='noti',keep='first',inplace=True)\n",
    "\n",
    "print(f'Time2Run fme_part = {pd.Timestamp.now()-t1_start}')"
   ]
  },
  {
   "cell_type": "code",
   "execution_count": 45,
   "metadata": {},
   "outputs": [],
   "source": [
    "#len(fme_part[fme_part.duplicated(subset='noti',keep=False)])"
   ]
  },
  {
   "cell_type": "markdown",
   "metadata": {},
   "source": [
    "## <font color='blue'>IW22 Item >> Maintenane Activity Tab</font>"
   ]
  },
  {
   "cell_type": "code",
   "execution_count": 46,
   "metadata": {},
   "outputs": [
    {
     "name": "stdout",
     "output_type": "stream",
     "text": [
      "Time2Run mtceact = 0 days 00:00:01.455397\n"
     ]
    }
   ],
   "source": [
    "# get data from PMWH Item Tab >> Maintenance item data\n",
    "t1_start = pd.Timestamp.now()\n",
    "\n",
    "sql_cmd = \"\"\"\n",
    "    select  [QMNUM] AS [noti], FENUM AS [itemnr], MATXT AS [mtceact_txt], MNKAT AS [catttype_mtceact],\n",
    "    MNGRP AS [mtceact_codegroup], MNGRPD AS [mtceact_codegroupdesc], MNCOD AS [mtceact_id], MNCODD AS [mtceact],\n",
    "    changedate as notichangedate\n",
    "\n",
    "\n",
    "    from dbo.vw_qmma\n",
    "    where fenum = 1\n",
    "\n",
    "\"\"\"\n",
    "mtceact = pd.read_sql(sql_cmd,con)\n",
    "mtceact.drop_duplicates(subset='noti',keep='first',inplace=True)\n",
    "\n",
    "\n",
    "print(f'Time2Run mtceact = {pd.Timestamp.now()-t1_start}')"
   ]
  },
  {
   "cell_type": "code",
   "execution_count": 47,
   "metadata": {},
   "outputs": [],
   "source": [
    "#mtceact.duplicated(subset='noti',keep=False).sum()"
   ]
  },
  {
   "cell_type": "markdown",
   "metadata": {},
   "source": [
    "## <font color='blue'>IW22 Item Tab >> Cause Tab</font>"
   ]
  },
  {
   "cell_type": "code",
   "execution_count": 48,
   "metadata": {},
   "outputs": [
    {
     "name": "stdout",
     "output_type": "stream",
     "text": [
      "Time2Run cause = 0 days 00:00:01.541190\n"
     ]
    }
   ],
   "source": [
    "# get data from PMWH Tab item >> Cause Tab data\n",
    "t1_start = pd.Timestamp.now()\n",
    "\n",
    "sql_cmd = \"\"\"\n",
    "    select  qmnum as noti, fenum as itemnr, urtxt as causetxt, urgrp as cause_codegroup,\n",
    "    urgrpd as cause_codegroupdesc,urcod as cause_id, urcodd as cause, changedate as notichangedate\n",
    "\n",
    "\n",
    "    from dbo.vw_qmur\n",
    "    where fenum = 1\n",
    "\n",
    "\"\"\"\n",
    "cause = pd.read_sql(sql_cmd,con)\n",
    "cause.drop_duplicates(subset='noti',keep='first',inplace=True)\n",
    "\n",
    "print(f'Time2Run cause = {pd.Timestamp.now()-t1_start}')"
   ]
  },
  {
   "cell_type": "code",
   "execution_count": 49,
   "metadata": {},
   "outputs": [],
   "source": [
    "#cause.duplicated(subset='noti',keep=False).sum()"
   ]
  },
  {
   "cell_type": "markdown",
   "metadata": {},
   "source": [
    "# Merge FL Type and EQ Type"
   ]
  },
  {
   "cell_type": "code",
   "execution_count": 50,
   "metadata": {},
   "outputs": [
    {
     "name": "stdout",
     "output_type": "stream",
     "text": [
      "Time2Merge SapSummary-FL-EQ = 0 days 00:00:20.061021\n"
     ]
    }
   ],
   "source": [
    "t1_start = pd.Timestamp.now()\n",
    "sapsummary = sapsummary.merge(fldf, left_on='FL', right_on='fl',how='left')\n",
    "sapsummary = sapsummary.merge(eqdf, left_on='Eq', right_on='eq',how='left')\n",
    "print(f'Time2Merge SapSummary-FL-EQ = {pd.Timestamp.now()-t1_start}')"
   ]
  },
  {
   "cell_type": "code",
   "execution_count": 51,
   "metadata": {},
   "outputs": [],
   "source": [
    "#sapsummary[sapsummary.duplicated(subset='Noti',keep=False)]"
   ]
  },
  {
   "cell_type": "code",
   "execution_count": 52,
   "metadata": {},
   "outputs": [],
   "source": [
    "colls = ['Plant4', 'Noti', 'NotiDesc','notilongtxt', 'ref_pm_order', 'FL','fltype', 'FLabc', 'FLDesc', 'flstatus', 'NotiDate', 'MalFnSt',\n",
    "       'MalFnEnd', 'ReqSt', 'ReqEn', 'NotiCreateDate', 'NotiChanged', 'Eq','eqtype','eqclass', 'Eqabc', 'eqstatus',\n",
    "       'MainWC', 'MtcePlant', 'PlantName', 'CCTR', 'BreakdownInd',\n",
    "       'NotiSysStatus','NotiUserStatus', 'NotiPri', 'NotiPriTxt', 'Order', 'OrderType',\n",
    "       'NotiType', 'FLobjType', 'FLClass', 'WorkSt', 'WorkFn','OrderBasicStart','OrderBasicFinish', 'CancelDate',\n",
    "       'ActLaborCost', 'ActMatCost', 'ActExtCost', 'AmountOfWorkOrder', 'MH',\n",
    "       'DateForModifyRecord', 'NotiCreateYear', 'TTRMinute', 'TotalCost',\n",
    "       'CashCost', 'notification', 'Order_Order', 'OrderDesc', 'MainActType',\n",
    "       'OrderCreateDate', 'TecoDate', 'OrderSysStatus','OrderUserStatus', 'Superior Order',\n",
    "       'ADDDATE' , 'plannergroup','failuremode_codegroup', 'failuemode_id', 'failuremode',\n",
    "       'NotiCreateByID', 'NotiCreateBy','NotiCreateSec','NotiCompleteByID', 'NotiCompleteBy', 'NotiCompleteSec'\n",
    "       ]"
   ]
  },
  {
   "cell_type": "code",
   "execution_count": 53,
   "metadata": {},
   "outputs": [
    {
     "name": "stdout",
     "output_type": "stream",
     "text": [
      "Time2SelectColumns FLEQ = 0 days 00:00:38.893255\n"
     ]
    }
   ],
   "source": [
    "t1_start = pd.Timestamp.now()\n",
    "sapsummary = sapsummary[colls]\n",
    "print(f'Time2SelectColumns FLEQ = {pd.Timestamp.now()-t1_start}')"
   ]
  },
  {
   "cell_type": "markdown",
   "metadata": {},
   "source": [
    "# Merge Failure Mechanism and Part"
   ]
  },
  {
   "cell_type": "code",
   "execution_count": 54,
   "metadata": {},
   "outputs": [
    {
     "name": "stdout",
     "output_type": "stream",
     "text": [
      "Time2Merge Faiure Mechanism and Part = 0 days 00:01:13.392998\n"
     ]
    }
   ],
   "source": [
    "t1_start = pd.Timestamp.now()\n",
    "sapsummary = sapsummary.merge(fme_part,left_on='Noti',right_on='noti',how='left',suffixes=('','_1'))\n",
    "print(f'Time2Merge Faiure Mechanism and Part = {pd.Timestamp.now()-t1_start}')"
   ]
  },
  {
   "cell_type": "code",
   "execution_count": 55,
   "metadata": {},
   "outputs": [],
   "source": [
    "#sapsummary.duplicated(subset='Noti',keep=False).sum()"
   ]
  },
  {
   "cell_type": "code",
   "execution_count": 56,
   "metadata": {},
   "outputs": [],
   "source": [
    "colls = ['Plant4', 'Noti', 'NotiDesc','notilongtxt', 'ref_pm_order', 'FL', 'fltype', 'FLabc',\n",
    "       'FLDesc', 'flstatus', 'NotiDate', 'MalFnSt', 'MalFnEnd', 'ReqSt',\n",
    "       'ReqEn', 'NotiCreateDate', 'NotiChanged', 'Eq', 'eqtype','eqclass', 'Eqabc',\n",
    "       'eqstatus', 'MainWC', 'MtcePlant', 'PlantName', 'CCTR', 'BreakdownInd',\n",
    "       'NotiSysStatus','NotiUserStatus', 'NotiPri', 'NotiPriTxt', 'Order', 'OrderType',\n",
    "       'NotiType', 'FLobjType', 'FLClass', 'WorkSt', 'WorkFn','OrderBasicStart','OrderBasicFinish', 'CancelDate',\n",
    "       'ActLaborCost', 'ActMatCost', 'ActExtCost', 'AmountOfWorkOrder', 'MH',\n",
    "       'DateForModifyRecord', 'NotiCreateYear', 'TTRMinute', 'TotalCost',\n",
    "       'CashCost', 'notification', 'Order_Order', 'OrderDesc', 'MainActType',\n",
    "       'OrderCreateDate', 'TecoDate', 'OrderSysStatus','OrderUserStatus', 'Superior Order',\n",
    "       'ADDDATE', 'plannergroup', 'failuremode_codegroup', 'failuemode_id',\n",
    "       'failuremode', 'cattype_failuremech', 'failuremech_codegroup', 'failuremech_codegroupdesc', 'failuermech_id',\n",
    "       'failuremech', 'mtceitem_codegroup', 'mtceitem_subunit', 'mtceitem_id', 'mtceitem_part',\n",
    "        'NotiCreateByID', 'NotiCreateBy','NotiCreateSec','NotiCompleteByID', 'NotiCompleteBy', 'NotiCompleteSec'\n",
    "        ]"
   ]
  },
  {
   "cell_type": "code",
   "execution_count": 57,
   "metadata": {},
   "outputs": [
    {
     "name": "stdout",
     "output_type": "stream",
     "text": [
      "Time2SelectColumns Failure Mechanism and Part = 0 days 00:00:07.646729\n"
     ]
    }
   ],
   "source": [
    "t1_start = pd.Timestamp.now()\n",
    "sapsummary = sapsummary[colls]\n",
    "print(f'Time2SelectColumns Failure Mechanism and Part = {pd.Timestamp.now()-t1_start}')"
   ]
  },
  {
   "cell_type": "markdown",
   "metadata": {},
   "source": [
    "# Merge Maintenace Activity"
   ]
  },
  {
   "cell_type": "code",
   "execution_count": 58,
   "metadata": {},
   "outputs": [
    {
     "name": "stdout",
     "output_type": "stream",
     "text": [
      "Time2Merge Maintenance Activity = 0 days 00:00:42.129405\n"
     ]
    }
   ],
   "source": [
    "t1_start = pd.Timestamp.now()\n",
    "sapsummary = sapsummary.merge(mtceact,left_on='Noti',right_on='noti',how='left')\n",
    "print(f'Time2Merge Maintenance Activity = {pd.Timestamp.now()-t1_start}')"
   ]
  },
  {
   "cell_type": "code",
   "execution_count": 59,
   "metadata": {},
   "outputs": [],
   "source": [
    "#sapsummary.duplicated(subset='Noti',keep=False).sum()"
   ]
  },
  {
   "cell_type": "code",
   "execution_count": 60,
   "metadata": {},
   "outputs": [],
   "source": [
    "colls = ['Plant4', 'Noti', 'NotiDesc','notilongtxt', 'ref_pm_order', 'FL', 'fltype', 'FLabc',\n",
    "       'FLDesc', 'flstatus', 'NotiDate', 'MalFnSt', 'MalFnEnd', 'ReqSt',\n",
    "       'ReqEn', 'NotiCreateDate', 'NotiChanged', 'Eq', 'eqtype', 'eqclass', 'Eqabc',\n",
    "       'eqstatus', 'MainWC', 'MtcePlant', 'PlantName', 'CCTR', 'BreakdownInd',\n",
    "       'NotiSysStatus','NotiUserStatus', 'NotiPri', 'NotiPriTxt', 'Order', 'OrderType',\n",
    "       'NotiType', 'FLobjType', 'FLClass', 'WorkSt', 'WorkFn','OrderBasicStart','OrderBasicFinish', 'CancelDate',\n",
    "       'ActLaborCost', 'ActMatCost', 'ActExtCost', 'AmountOfWorkOrder', 'MH',\n",
    "       'DateForModifyRecord', 'NotiCreateYear', 'TTRMinute', 'TotalCost',\n",
    "       'CashCost', 'notification', 'Order_Order', 'OrderDesc', 'MainActType',\n",
    "       'OrderCreateDate', 'TecoDate', 'OrderSysStatus', 'OrderUserStatus','Superior Order',\n",
    "       'ADDDATE', 'plannergroup', 'failuremode_codegroup', 'failuemode_id',\n",
    "       'failuremode', 'cattype_failuremech', 'failuremech_codegroup',\n",
    "       'failuremech_codegroupdesc', 'failuermech_id', 'failuremech',\n",
    "       'mtceitem_codegroup', 'mtceitem_subunit', 'mtceitem_id',\n",
    "       'mtceitem_part', 'catttype_mtceact',\n",
    "       'mtceact_codegroup', 'mtceact_codegroupdesc', 'mtceact_id', 'mtceact',\n",
    "        'NotiCreateByID', 'NotiCreateBy','NotiCreateSec','NotiCompleteByID', 'NotiCompleteBy', 'NotiCompleteSec']"
   ]
  },
  {
   "cell_type": "code",
   "execution_count": 61,
   "metadata": {},
   "outputs": [
    {
     "name": "stdout",
     "output_type": "stream",
     "text": [
      "Time2SelectColumns Maintenance Activity = 0 days 00:00:07.651372\n"
     ]
    }
   ],
   "source": [
    "t1_start = pd.Timestamp.now()\n",
    "sapsummary = sapsummary[colls]\n",
    "print(f'Time2SelectColumns Maintenance Activity = {pd.Timestamp.now()-t1_start}')"
   ]
  },
  {
   "cell_type": "markdown",
   "metadata": {},
   "source": [
    "# Merge Root Cause"
   ]
  },
  {
   "cell_type": "code",
   "execution_count": 62,
   "metadata": {},
   "outputs": [
    {
     "name": "stdout",
     "output_type": "stream",
     "text": [
      "Time2Merge Root Cause = 0 days 00:00:32.148050\n"
     ]
    }
   ],
   "source": [
    "t1_start = pd.Timestamp.now()\n",
    "sapsummary = sapsummary.merge(cause,left_on='Noti',right_on='noti',how='left')\n",
    "print(f'Time2Merge Root Cause = {pd.Timestamp.now()-t1_start}')"
   ]
  },
  {
   "cell_type": "code",
   "execution_count": 63,
   "metadata": {},
   "outputs": [],
   "source": [
    "#sapsummary.duplicated(subset='Noti',keep=False).sum()"
   ]
  },
  {
   "cell_type": "code",
   "execution_count": 64,
   "metadata": {},
   "outputs": [],
   "source": [
    "colls = ['Plant4', 'Noti', 'NotiDesc', 'notilongtxt', 'ref_pm_order','FL', 'fltype', 'FLabc',\n",
    "       'FLDesc', 'flstatus', 'NotiDate', 'MalFnSt', 'MalFnEnd', 'ReqSt',\n",
    "       'ReqEn', 'NotiCreateDate', 'NotiChanged', 'Eq', 'eqtype', 'eqclass', 'Eqabc',\n",
    "       'eqstatus', 'MainWC', 'MtcePlant', 'PlantName', 'CCTR', 'BreakdownInd',\n",
    "       'NotiSysStatus','NotiUserStatus', 'NotiPri', 'NotiPriTxt', 'Order', 'OrderDesc', 'OrderType',\n",
    "       'NotiType', 'FLobjType', 'FLClass', 'WorkSt', 'WorkFn','OrderBasicStart','OrderBasicFinish',\n",
    "       'ActLaborCost', 'ActMatCost', 'ActExtCost', 'AmountOfWorkOrder', 'MH',\n",
    "       'NotiCreateYear', 'TTRMinute', 'TotalCost',\n",
    "       'CashCost', 'notification', 'MainActType',\n",
    "       'OrderCreateDate', 'TecoDate', 'OrderSysStatus','OrderUserStatus', 'Superior Order',\n",
    "       'plannergroup', 'failuremode_codegroup', 'failuemode_id',\n",
    "       'failuremode', 'cattype_failuremech', 'failuremech_codegroup',\n",
    "       'failuremech_codegroupdesc', 'failuermech_id', 'failuremech',\n",
    "       'mtceitem_codegroup', 'mtceitem_subunit', 'mtceitem_id',\n",
    "       'mtceitem_part', 'catttype_mtceact', 'mtceact_codegroup',\n",
    "       'mtceact_codegroupdesc', 'mtceact_id', 'mtceact',\n",
    "       'causetxt', 'cause_codegroup', 'cause_codegroupdesc', 'cause_id',\n",
    "       'cause',\n",
    "         'NotiCreateByID', 'NotiCreateBy','NotiCreateSec','NotiCompleteByID', 'NotiCompleteBy', 'NotiCompleteSec']"
   ]
  },
  {
   "cell_type": "code",
   "execution_count": 65,
   "metadata": {},
   "outputs": [
    {
     "name": "stdout",
     "output_type": "stream",
     "text": [
      "Time2SelectColumns Root Cause = 0 days 00:00:07.789029\n"
     ]
    }
   ],
   "source": [
    "t1_start = pd.Timestamp.now()\n",
    "sapsummary = sapsummary[colls]\n",
    "print(f'Time2SelectColumns Root Cause = {pd.Timestamp.now()-t1_start}')"
   ]
  },
  {
   "cell_type": "code",
   "execution_count": 66,
   "metadata": {},
   "outputs": [],
   "source": [
    "#sapsummary.duplicated(subset='Noti',keep=False).sum()"
   ]
  },
  {
   "cell_type": "code",
   "execution_count": 67,
   "metadata": {},
   "outputs": [],
   "source": [
    "#sapsummary[sapsummary.duplicated(subset='Noti',keep=False)]"
   ]
  },
  {
   "cell_type": "code",
   "execution_count": 68,
   "metadata": {},
   "outputs": [
    {
     "data": {
      "text/plain": [
       "Index(['Plant4', 'Noti', 'NotiDesc', 'notilongtxt', 'ref_pm_order', 'FL',\n",
       "       'fltype', 'FLabc', 'FLDesc', 'flstatus', 'NotiDate', 'MalFnSt',\n",
       "       'MalFnEnd', 'ReqSt', 'ReqEn', 'NotiCreateDate', 'NotiChanged', 'Eq',\n",
       "       'eqtype', 'eqclass', 'Eqabc', 'eqstatus', 'MainWC', 'MtcePlant',\n",
       "       'PlantName', 'CCTR', 'BreakdownInd', 'NotiSysStatus', 'NotiUserStatus',\n",
       "       'NotiPri', 'NotiPriTxt', 'Order', 'OrderDesc', 'OrderType', 'NotiType',\n",
       "       'FLobjType', 'FLClass', 'WorkSt', 'WorkFn', 'OrderBasicStart',\n",
       "       'OrderBasicFinish', 'ActLaborCost', 'ActMatCost', 'ActExtCost',\n",
       "       'AmountOfWorkOrder', 'MH', 'NotiCreateYear', 'TTRMinute', 'TotalCost',\n",
       "       'CashCost', 'notification', 'MainActType', 'OrderCreateDate',\n",
       "       'TecoDate', 'OrderSysStatus', 'OrderUserStatus', 'Superior Order',\n",
       "       'plannergroup', 'failuremode_codegroup', 'failuemode_id', 'failuremode',\n",
       "       'cattype_failuremech', 'failuremech_codegroup',\n",
       "       'failuremech_codegroupdesc', 'failuermech_id', 'failuremech',\n",
       "       'mtceitem_codegroup', 'mtceitem_subunit', 'mtceitem_id',\n",
       "       'mtceitem_part', 'catttype_mtceact', 'mtceact_codegroup',\n",
       "       'mtceact_codegroupdesc', 'mtceact_id', 'mtceact', 'causetxt',\n",
       "       'cause_codegroup', 'cause_codegroupdesc', 'cause_id', 'cause',\n",
       "       'NotiCreateByID', 'NotiCreateBy', 'NotiCreateSec', 'NotiCompleteByID',\n",
       "       'NotiCompleteBy', 'NotiCompleteSec'],\n",
       "      dtype='object')"
      ]
     },
     "execution_count": 68,
     "metadata": {},
     "output_type": "execute_result"
    }
   ],
   "source": [
    "sapsummary.columns"
   ]
  },
  {
   "cell_type": "code",
   "execution_count": 69,
   "metadata": {},
   "outputs": [],
   "source": [
    "#complex = pd.read_excel('N:/OneDrive - IRPC/ComplexPlantCalendar/DateCalendar.xlsx',sheet_name='ComplexPlant')\n",
    "complex = pd.read_excel('DateCalendar.xlsx',sheet_name='ComplexPlant')\n",
    "pgdiv = pd.read_excel('DateCalendar.xlsx',sheet_name='PGDiv')"
   ]
  },
  {
   "cell_type": "code",
   "execution_count": 70,
   "metadata": {},
   "outputs": [],
   "source": [
    "eqpop = eqdf[['eq','eqtype','eqclass']][eqdf.eqstatus=='ACTIVE'].copy()\n",
    "eqpop.loc[:,'plant'] = eqpop['eq'].str[:4]\n",
    "eqpop.loc[:,'plant'] = eqpop.plant.apply(lambda v: v.strip())\n",
    "eqpop.loc[:,'plant'] = eqpop.plant.apply(lambda v: v.replace('-',''))"
   ]
  },
  {
   "cell_type": "code",
   "execution_count": 71,
   "metadata": {},
   "outputs": [],
   "source": [
    "eqpop = eqpop.merge(complex, left_on='plant',right_on='Plant',how='left')\n",
    "eqpop = eqpop[['eq','eqtype','eqclass','plant','Complex']]\n",
    "eqpop.rename(columns={'Complex':'complex'},inplace=True)"
   ]
  },
  {
   "cell_type": "code",
   "execution_count": 72,
   "metadata": {},
   "outputs": [],
   "source": [
    "eqpop = eqpop.pivot_table(index=['complex','plant','eqtype','eqclass'],aggfunc='count').reset_index()\n",
    "eqpop.rename(columns={'eq':'population'},inplace=True)"
   ]
  },
  {
   "cell_type": "code",
   "execution_count": 73,
   "metadata": {},
   "outputs": [],
   "source": [
    "#eqpop.groupby(by=['complex','plant','eqtype']).agg(pop=('eqclass','count'))"
   ]
  },
  {
   "cell_type": "code",
   "execution_count": 74,
   "metadata": {},
   "outputs": [],
   "source": [
    "# eqpop.to_excel('eqpop.xlsx',index=False)"
   ]
  },
  {
   "cell_type": "code",
   "execution_count": 75,
   "metadata": {},
   "outputs": [],
   "source": [
    "eqpop.to_excel(saved_dir+'eqpop.xlsx',index=False)"
   ]
  },
  {
   "cell_type": "code",
   "execution_count": 76,
   "metadata": {
    "tags": []
   },
   "outputs": [
    {
     "ename": "NameError",
     "evalue": "name 'upload_largefile2sharepoint' is not defined",
     "output_type": "error",
     "traceback": [
      "\u001b[1;31m---------------------------------------------------------------------------\u001b[0m",
      "\u001b[1;31mNameError\u001b[0m                                 Traceback (most recent call last)",
      "\u001b[1;32m<ipython-input-76-ba2c389f5629>\u001b[0m in \u001b[0;36m<module>\u001b[1;34m\u001b[0m\n\u001b[0;32m      1\u001b[0m \u001b[0mlocal_path\u001b[0m \u001b[1;33m=\u001b[0m \u001b[0msaved_dir\u001b[0m\u001b[1;33m+\u001b[0m\u001b[1;34m'eqpop.xlsx'\u001b[0m\u001b[1;33m\u001b[0m\u001b[1;33m\u001b[0m\u001b[0m\n\u001b[1;32m----> 2\u001b[1;33m \u001b[0mupload_largefile2sharepoint\u001b[0m\u001b[1;33m(\u001b[0m\u001b[0mlocal_path\u001b[0m\u001b[1;33m)\u001b[0m\u001b[1;33m\u001b[0m\u001b[1;33m\u001b[0m\u001b[0m\n\u001b[0m",
      "\u001b[1;31mNameError\u001b[0m: name 'upload_largefile2sharepoint' is not defined"
     ]
    }
   ],
   "source": [
    "local_path = saved_dir+'eqpop.xlsx'\n",
    "upload_largefile2sharepoint(local_path)"
   ]
  },
  {
   "cell_type": "code",
   "execution_count": 77,
   "metadata": {},
   "outputs": [],
   "source": [
    "sapsummary = sapsummary.merge(complex,left_on='Plant4',right_on='Plant',how='left')"
   ]
  },
  {
   "cell_type": "code",
   "execution_count": 78,
   "metadata": {},
   "outputs": [],
   "source": [
    "# get a list of columns\n",
    "cols = list(sapsummary)\n",
    "# move the column to head of list using index, pop and insert\n",
    "cols.insert(0, cols.pop(cols.index('Complex')))\n",
    "cols.insert(1, cols.pop(cols.index('Plant')))"
   ]
  },
  {
   "cell_type": "code",
   "execution_count": 79,
   "metadata": {},
   "outputs": [],
   "source": [
    "sapsummary = sapsummary[cols]"
   ]
  },
  {
   "cell_type": "code",
   "execution_count": 80,
   "metadata": {},
   "outputs": [],
   "source": [
    "#sapsummary[['Complex','Plant','Eq','eqtype','Noti','eqclass']].merge(eqpop[['plant','eqtype','eqclass','population']].groupby(['plant','eqtype','eqclass']).sum().reset_index(),left_on=['Plant','eqtype','eqclass'],right_on=['plant','eqtype','eqclass'],how='left')"
   ]
  },
  {
   "cell_type": "code",
   "execution_count": 81,
   "metadata": {},
   "outputs": [],
   "source": [
    "sapsummary = sapsummary.merge(eqpop,left_on=['Plant','eqtype','eqclass'],right_on=['plant','eqtype','eqclass'],how='left')\n",
    "sapsummary['population'].fillna(0,inplace=True)"
   ]
  },
  {
   "cell_type": "code",
   "execution_count": 82,
   "metadata": {},
   "outputs": [],
   "source": [
    "#sapsummary.loc[3:4][['OrderUserStatus','OrderSysStatus']]"
   ]
  },
  {
   "cell_type": "code",
   "execution_count": 83,
   "metadata": {},
   "outputs": [],
   "source": [
    "#sapsummary[(sapsummary.OrderUserStatus.str.contains('FIN')==True)|(sapsummary.OrderSysStatus.str.contains('CLSD|TECO')==True)][['OrderUserStatus','OrderSysStatus']].head(50)"
   ]
  },
  {
   "cell_type": "code",
   "execution_count": 84,
   "metadata": {},
   "outputs": [],
   "source": [
    "sapsummary['finished'] = (sapsummary.OrderUserStatus.str.contains('FIN')==True)|(sapsummary.OrderSysStatus.str.contains('CLSD|TECO')==True)"
   ]
  },
  {
   "cell_type": "code",
   "execution_count": 85,
   "metadata": {},
   "outputs": [],
   "source": [
    "#sapsummary[(sapsummary.NotiSysStatus.str.contains('DLFL')==True)|(sapsummary.OrderUserStatus.str.contains('CAN'))][['NotiSysStatus','OrderUserStatus','OrderSysStatus']]"
   ]
  },
  {
   "cell_type": "code",
   "execution_count": 86,
   "metadata": {},
   "outputs": [],
   "source": [
    "sapsummary['canceled'] = (sapsummary.NotiSysStatus.str.contains('DLFL')==True)|(sapsummary.OrderUserStatus.str.contains('CAN')==True)"
   ]
  },
  {
   "cell_type": "code",
   "execution_count": 87,
   "metadata": {},
   "outputs": [],
   "source": [
    "#sapsummary[(~sapsummary.MalFnSt.isnull())&(~sapsummary.MalFnEnd.isnull())&(sapsummary.NotiUserStatus.str.contains('SRC')==True)&(sapsummary.NotiUserStatus.str.contains('FCC')==True)][['NotiUserStatus','MalFnSt','MalFnEnd']]"
   ]
  },
  {
   "cell_type": "code",
   "execution_count": 88,
   "metadata": {},
   "outputs": [],
   "source": [
    "sapsummary['dqp'] = (~sapsummary.MalFnSt.isnull())&(~sapsummary.MalFnEnd.isnull())&(sapsummary.NotiUserStatus.str.contains('SRC')==True)&(sapsummary.NotiUserStatus.str.contains('FCC')==True)"
   ]
  },
  {
   "cell_type": "code",
   "execution_count": 89,
   "metadata": {},
   "outputs": [],
   "source": [
    "#sapsummary[(sapsummary.dqp==False)&(sapsummary.finished)][['dqp','finished']]"
   ]
  },
  {
   "cell_type": "code",
   "execution_count": 90,
   "metadata": {},
   "outputs": [],
   "source": [
    "sapsummary['needhist'] = (sapsummary.dqp==False)&(sapsummary.finished==True)&(sapsummary.canceled==False)&(sapsummary.NotiType=='M1')&(sapsummary.OrderType=='PM01')\n",
    "sapsummary['FCC'] = sapsummary.NotiUserStatus.str.contains('FCC')\n",
    "sapsummary['SRC'] = sapsummary.NotiUserStatus.str.contains('SRC')"
   ]
  },
  {
   "cell_type": "code",
   "execution_count": 91,
   "metadata": {},
   "outputs": [],
   "source": [
    "# sapsummary[sapsummary.NotiUserStatus.str.contains('FCC')==True]"
   ]
  },
  {
   "cell_type": "code",
   "execution_count": 92,
   "metadata": {},
   "outputs": [],
   "source": [
    "sapsummary = sapsummary.merge(pgdiv,on='plannergroup',how='left')"
   ]
  },
  {
   "cell_type": "code",
   "execution_count": 93,
   "metadata": {},
   "outputs": [],
   "source": [
    "# sapsummary = pd.read_csv('sappm.csv',low_memory=False)"
   ]
  },
  {
   "cell_type": "code",
   "execution_count": 94,
   "metadata": {},
   "outputs": [],
   "source": [
    "# sapsummary.columns"
   ]
  },
  {
   "cell_type": "code",
   "execution_count": 95,
   "metadata": {},
   "outputs": [
    {
     "name": "stdout",
     "output_type": "stream",
     "text": [
      "Time2Save ForMa Excel File = 0 days 00:00:18.321663\n"
     ]
    }
   ],
   "source": [
    "# gen excel for Maintenance Failure Recording Data Quality Check\n",
    "t1_start = pd.Timestamp.now()\n",
    "sapsummary[(sapsummary.needhist==True)&(sapsummary.NotiCreateDate>='2019-06-01')&(sapsummary.OrderType=='PM01')&(sapsummary.NotiType=='M1')]\\\n",
    "        [['MalFnSt', 'MalFnEnd', 'SRC','FCC','Noti','Order', 'NotiDesc', 'notilongtxt',\n",
    "        'FL', 'Eq' , 'NotiCreateDate',\n",
    "        'Div','plannergroup','MainWC','NotiSysStatus','OrderType',\n",
    "        'failuremode', 'failuremech', 'cause', 'mtceact','mtceitem_subunit', 'mtceitem_part',\n",
    "       'NotiType', 'FLobjType', 'FLClass', 'WorkSt', 'WorkFn',                                                                                                                                       \n",
    "       'NotiCreateByID', 'NotiCreateBy', 'NotiCreateSec', 'NotiCompleteByID',\n",
    "       'NotiCompleteBy', 'NotiCompleteSec', 'NotiUserStatus',  'complex', 'plant',\n",
    "       'finished', 'canceled', 'dqp', 'needhist',  'Div']].to_excel(saved_dir+'ForMa.xlsx',index=False)\n",
    "print(f'Time2Save ForMa Excel File = {pd.Timestamp.now()-t1_start}')"
   ]
  },
  {
   "cell_type": "code",
   "execution_count": 96,
   "metadata": {},
   "outputs": [
    {
     "ename": "NameError",
     "evalue": "name 'upload_largefile2sharepoint' is not defined",
     "output_type": "error",
     "traceback": [
      "\u001b[1;31m---------------------------------------------------------------------------\u001b[0m",
      "\u001b[1;31mNameError\u001b[0m                                 Traceback (most recent call last)",
      "\u001b[1;32m<ipython-input-96-5c8c8c6a8e3d>\u001b[0m in \u001b[0;36m<module>\u001b[1;34m\u001b[0m\n\u001b[0;32m      1\u001b[0m \u001b[0mlocal_path\u001b[0m \u001b[1;33m=\u001b[0m \u001b[0msaved_dir\u001b[0m\u001b[1;33m+\u001b[0m\u001b[1;34m'ForMa.xlsx'\u001b[0m\u001b[1;33m\u001b[0m\u001b[1;33m\u001b[0m\u001b[0m\n\u001b[1;32m----> 2\u001b[1;33m \u001b[0mupload_largefile2sharepoint\u001b[0m\u001b[1;33m(\u001b[0m\u001b[0mfile2upload\u001b[0m\u001b[1;33m=\u001b[0m\u001b[0mlocal_path\u001b[0m\u001b[1;33m)\u001b[0m\u001b[1;33m\u001b[0m\u001b[1;33m\u001b[0m\u001b[0m\n\u001b[0m",
      "\u001b[1;31mNameError\u001b[0m: name 'upload_largefile2sharepoint' is not defined"
     ]
    }
   ],
   "source": [
    "local_path = saved_dir+'ForMa.xlsx'\n",
    "upload_largefile2sharepoint(file2upload=local_path)"
   ]
  },
  {
   "cell_type": "code",
   "execution_count": 97,
   "metadata": {},
   "outputs": [
    {
     "name": "stdout",
     "output_type": "stream",
     "text": [
      "Time2Save DQP Excel File = 0 days 00:00:18.691145\n"
     ]
    }
   ],
   "source": [
    "# gen excel Data Quality Passed for Maintenance Failure Recording Data Quality Check\n",
    "t1_start = pd.Timestamp.now()\n",
    "sapsummary[(sapsummary['dqp']==True)&(sapsummary.NotiCreateDate>='2019-06-01')&(sapsummary.OrderType=='PM01')&(sapsummary.NotiType=='M1')]\\\n",
    "        [['MalFnSt', 'MalFnEnd', 'SRC','FCC','Noti','Order', 'NotiDesc', 'notilongtxt',\n",
    "        'FL', 'Eq' , 'NotiCreateDate',\n",
    "        'Div','plannergroup','MainWC','NotiSysStatus','OrderType',\n",
    "        'failuremode', 'failuremech', 'cause', 'mtceact','mtceitem_subunit', 'mtceitem_part',\n",
    "       'NotiType', 'FLobjType', 'FLClass', 'WorkSt', 'WorkFn',                                                                                                                                       \n",
    "       'NotiCreateByID', 'NotiCreateBy', 'NotiCreateSec', 'NotiCompleteByID',\n",
    "       'NotiCompleteBy', 'NotiCompleteSec', 'NotiUserStatus',  'complex', 'plant',\n",
    "       'finished', 'canceled', 'dqp', 'needhist',  'Div']].to_excel(saved_dir+'DataQualityPassed.xlsx',index=False)\n",
    "print(f'Time2Save DQP Excel File = {pd.Timestamp.now()-t1_start}')"
   ]
  },
  {
   "cell_type": "code",
   "execution_count": 98,
   "metadata": {},
   "outputs": [
    {
     "ename": "NameError",
     "evalue": "name 'upload_largefile2sharepoint' is not defined",
     "output_type": "error",
     "traceback": [
      "\u001b[1;31m---------------------------------------------------------------------------\u001b[0m",
      "\u001b[1;31mNameError\u001b[0m                                 Traceback (most recent call last)",
      "\u001b[1;32m<ipython-input-98-ca6e2b23bb66>\u001b[0m in \u001b[0;36m<module>\u001b[1;34m\u001b[0m\n\u001b[0;32m      1\u001b[0m \u001b[0mlocal_path\u001b[0m \u001b[1;33m=\u001b[0m \u001b[0msaved_dir\u001b[0m\u001b[1;33m+\u001b[0m\u001b[1;34m'DataQualityPassed.xlsx'\u001b[0m\u001b[1;33m\u001b[0m\u001b[1;33m\u001b[0m\u001b[0m\n\u001b[1;32m----> 2\u001b[1;33m \u001b[0mupload_largefile2sharepoint\u001b[0m\u001b[1;33m(\u001b[0m\u001b[0mfile2upload\u001b[0m\u001b[1;33m=\u001b[0m\u001b[0mlocal_path\u001b[0m\u001b[1;33m)\u001b[0m\u001b[1;33m\u001b[0m\u001b[1;33m\u001b[0m\u001b[0m\n\u001b[0m",
      "\u001b[1;31mNameError\u001b[0m: name 'upload_largefile2sharepoint' is not defined"
     ]
    }
   ],
   "source": [
    "local_path = saved_dir+'DataQualityPassed.xlsx'\n",
    "upload_largefile2sharepoint(file2upload=local_path)"
   ]
  },
  {
   "cell_type": "code",
   "execution_count": 99,
   "metadata": {},
   "outputs": [
    {
     "name": "stdout",
     "output_type": "stream",
     "text": [
      "Time2Save 4FailureDataQualityCheckCSV = 0 days 00:00:02.880305\n"
     ]
    }
   ],
   "source": [
    "# gen excel all of sapsummary short report and failure codes\n",
    "t1_start = pd.Timestamp.now()\n",
    "sapsummary[(sapsummary.OrderType=='PM01')&(sapsummary.NotiType=='M1')&(sapsummary.finished==True)&(sapsummary.canceled==False)&(sapsummary.NotiCreateDate>='2019-06-01')] \\\n",
    "            .to_csv(saved_dir+'4FailureDataQualityCheck.csv',index=False)\n",
    "print(f'Time2Save 4FailureDataQualityCheckCSV = {pd.Timestamp.now()-t1_start}')"
   ]
  },
  {
   "cell_type": "code",
   "execution_count": 100,
   "metadata": {},
   "outputs": [
    {
     "ename": "NameError",
     "evalue": "name 'upload_largefile2sharepoint' is not defined",
     "output_type": "error",
     "traceback": [
      "\u001b[1;31m---------------------------------------------------------------------------\u001b[0m",
      "\u001b[1;31mNameError\u001b[0m                                 Traceback (most recent call last)",
      "\u001b[1;32m<ipython-input-100-592c7970ea4b>\u001b[0m in \u001b[0;36m<module>\u001b[1;34m\u001b[0m\n\u001b[0;32m      1\u001b[0m \u001b[0mlocal_path\u001b[0m \u001b[1;33m=\u001b[0m \u001b[0msaved_dir\u001b[0m\u001b[1;33m+\u001b[0m\u001b[1;34m'4FailureDataQualityCheck.csv'\u001b[0m\u001b[1;33m\u001b[0m\u001b[1;33m\u001b[0m\u001b[0m\n\u001b[1;32m----> 2\u001b[1;33m \u001b[0mupload_largefile2sharepoint\u001b[0m\u001b[1;33m(\u001b[0m\u001b[0mfile2upload\u001b[0m\u001b[1;33m=\u001b[0m\u001b[0mlocal_path\u001b[0m\u001b[1;33m)\u001b[0m\u001b[1;33m\u001b[0m\u001b[1;33m\u001b[0m\u001b[0m\n\u001b[0m",
      "\u001b[1;31mNameError\u001b[0m: name 'upload_largefile2sharepoint' is not defined"
     ]
    }
   ],
   "source": [
    "local_path = saved_dir+'4FailureDataQualityCheck.csv'\n",
    "upload_largefile2sharepoint(file2upload=local_path)"
   ]
  },
  {
   "cell_type": "code",
   "execution_count": 101,
   "metadata": {},
   "outputs": [
    {
     "data": {
      "text/plain": [
       "Index(['Order_Order', 'OrderDesc', 'MainActType', 'OrderCreateDate',\n",
       "       'TecoDate', 'OrderSysStatus', 'Superior Order', 'ADDDATE',\n",
       "       'OrderUserStatus', 'OrderBasicStart', 'OrderBasicFinish'],\n",
       "      dtype='object')"
      ]
     },
     "execution_count": 101,
     "metadata": {},
     "output_type": "execute_result"
    }
   ],
   "source": [
    "saporder.columns"
   ]
  },
  {
   "cell_type": "code",
   "execution_count": 102,
   "metadata": {},
   "outputs": [
    {
     "name": "stdout",
     "output_type": "stream",
     "text": [
      "Time2Merge enfotech = 0 days 00:03:27.899953\n"
     ]
    }
   ],
   "source": [
    "#enfotech\n",
    "t1_start = pd.Timestamp.now()\n",
    "enfotech = sapsummary[['Noti', 'NotiDesc','notilongtxt',\n",
    "                 'NotiCreateDate', 'NotiCreateYear','Complex', 'plant',\n",
    "                 'FL','Eq','eqtype', 'Order', 'OrderType', 'OrderDesc',\n",
    "                 'ActLaborCost', 'ActMatCost', 'ActExtCost','TotalCost',\n",
    "                 'failuremode', 'failuremech', 'mtceact', 'mtceitem_subunit','mtceitem_part', 'cause',                 \n",
    "                 'MainActType', 'OrderCreateDate','finished']]\n",
    "enfotech = enfotech[(enfotech.OrderType<'PM09')&(sapsummary.NotiCreateYear>=2018)]\n",
    "enfotech = enfotech.merge(enfo_saporder,left_on='Noti',right_on='Order_Noti',how='outer')\n",
    "print(f'Time2Merge enfotech = {pd.Timestamp.now()-t1_start}')"
   ]
  },
  {
   "cell_type": "code",
   "execution_count": 103,
   "metadata": {},
   "outputs": [
    {
     "name": "stdout",
     "output_type": "stream",
     "text": [
      "Time2Save enfotech2Excel = 0 days 00:13:24.626802\n"
     ]
    }
   ],
   "source": [
    "t1_start = pd.Timestamp.now()\n",
    "enfotech['plant'] = enfotech.FL.str[:4].str.strip()\n",
    "enfotech['order_plant'] = enfotech.Order_FL.str[:4].str.strip()\n",
    "enfotech.to_excel(saved_dir+'EnfotechNotiOrder.xlsx', index = False)\n",
    "print(f'Time2Save enfotech2Excel = {pd.Timestamp.now()-t1_start}')"
   ]
  },
  {
   "cell_type": "code",
   "execution_count": 104,
   "metadata": {
    "collapsed": true,
    "jupyter": {
     "outputs_hidden": true
    },
    "tags": []
   },
   "outputs": [
    {
     "name": "stderr",
     "output_type": "stream",
     "text": [
      "An error occurred while retrieving token from XML response: AADSTS5000811: Unable to verify token signature. The signing key identifier does not match any valid registered keys.\n"
     ]
    },
    {
     "ename": "ValueError",
     "evalue": "An error occurred while retrieving token from XML response: AADSTS5000811: Unable to verify token signature. The signing key identifier does not match any valid registered keys.",
     "output_type": "error",
     "traceback": [
      "\u001b[1;31m---------------------------------------------------------------------------\u001b[0m",
      "\u001b[1;31mValueError\u001b[0m                                Traceback (most recent call last)",
      "\u001b[1;32m<ipython-input-104-3bde2414745a>\u001b[0m in \u001b[0;36m<module>\u001b[1;34m\u001b[0m\n\u001b[0;32m      5\u001b[0m \u001b[0mtarget_url\u001b[0m \u001b[1;33m=\u001b[0m \u001b[0mbasesite\u001b[0m\u001b[1;33m+\u001b[0m\u001b[0mdocurl\u001b[0m\u001b[1;33m\u001b[0m\u001b[1;33m\u001b[0m\u001b[0m\n\u001b[0;32m      6\u001b[0m \u001b[0mctx_auth\u001b[0m \u001b[1;33m=\u001b[0m \u001b[0mAuthenticationContext\u001b[0m\u001b[1;33m(\u001b[0m\u001b[0msiteurl\u001b[0m\u001b[1;33m)\u001b[0m\u001b[1;33m\u001b[0m\u001b[1;33m\u001b[0m\u001b[0m\n\u001b[1;32m----> 7\u001b[1;33m \u001b[0mctx_auth\u001b[0m\u001b[1;33m.\u001b[0m\u001b[0macquire_token_for_user\u001b[0m\u001b[1;33m(\u001b[0m\u001b[0msharepoint_user\u001b[0m\u001b[1;33m,\u001b[0m \u001b[0msharepoint_pass\u001b[0m\u001b[1;33m)\u001b[0m\u001b[1;33m\u001b[0m\u001b[1;33m\u001b[0m\u001b[0m\n\u001b[0m\u001b[0;32m      8\u001b[0m \u001b[0mctx\u001b[0m \u001b[1;33m=\u001b[0m \u001b[0mClientContext\u001b[0m\u001b[1;33m(\u001b[0m\u001b[0msiteurl\u001b[0m\u001b[1;33m,\u001b[0m \u001b[0mctx_auth\u001b[0m\u001b[1;33m)\u001b[0m \u001b[1;31m# make sure you auth to the siteurl.\u001b[0m\u001b[1;33m\u001b[0m\u001b[1;33m\u001b[0m\u001b[0m\n\u001b[0;32m      9\u001b[0m \u001b[0mtarget_folder\u001b[0m \u001b[1;33m=\u001b[0m \u001b[0mctx\u001b[0m\u001b[1;33m.\u001b[0m\u001b[0mweb\u001b[0m\u001b[1;33m.\u001b[0m\u001b[0mget_folder_by_server_relative_url\u001b[0m\u001b[1;33m(\u001b[0m\u001b[0mtarget_url\u001b[0m\u001b[1;33m)\u001b[0m\u001b[1;33m\u001b[0m\u001b[1;33m\u001b[0m\u001b[0m\n",
      "\u001b[1;32mN:\\Anaconda3\\lib\\site-packages\\office365\\runtime\\auth\\authentication_context.py\u001b[0m in \u001b[0;36macquire_token_for_user\u001b[1;34m(self, username, password, browser_mode)\u001b[0m\n\u001b[0;32m     72\u001b[0m         self._provider = SamlTokenProvider(url=self.url, username=username, password=password,\n\u001b[0;32m     73\u001b[0m                                            browser_mode=browser_mode)\n\u001b[1;32m---> 74\u001b[1;33m         \u001b[1;32mreturn\u001b[0m \u001b[0mself\u001b[0m\u001b[1;33m.\u001b[0m\u001b[0m_provider\u001b[0m\u001b[1;33m.\u001b[0m\u001b[0mensure_authentication_cookie\u001b[0m\u001b[1;33m(\u001b[0m\u001b[1;33m)\u001b[0m\u001b[1;33m\u001b[0m\u001b[1;33m\u001b[0m\u001b[0m\n\u001b[0m\u001b[0;32m     75\u001b[0m \u001b[1;33m\u001b[0m\u001b[0m\n\u001b[0;32m     76\u001b[0m     \u001b[1;32mdef\u001b[0m \u001b[0macquire_token_for_app\u001b[0m\u001b[1;33m(\u001b[0m\u001b[0mself\u001b[0m\u001b[1;33m,\u001b[0m \u001b[0mclient_id\u001b[0m\u001b[1;33m,\u001b[0m \u001b[0mclient_secret\u001b[0m\u001b[1;33m)\u001b[0m\u001b[1;33m:\u001b[0m\u001b[1;33m\u001b[0m\u001b[1;33m\u001b[0m\u001b[0m\n",
      "\u001b[1;32mN:\\Anaconda3\\lib\\site-packages\\office365\\runtime\\auth\\providers\\saml_token_provider.py\u001b[0m in \u001b[0;36mensure_authentication_cookie\u001b[1;34m(self)\u001b[0m\n\u001b[0;32m     82\u001b[0m     \u001b[1;32mdef\u001b[0m \u001b[0mensure_authentication_cookie\u001b[0m\u001b[1;33m(\u001b[0m\u001b[0mself\u001b[0m\u001b[1;33m)\u001b[0m\u001b[1;33m:\u001b[0m\u001b[1;33m\u001b[0m\u001b[1;33m\u001b[0m\u001b[0m\n\u001b[0;32m     83\u001b[0m         \u001b[1;32mif\u001b[0m \u001b[0mself\u001b[0m\u001b[1;33m.\u001b[0m\u001b[0m_cached_auth_cookies\u001b[0m \u001b[1;32mis\u001b[0m \u001b[1;32mNone\u001b[0m\u001b[1;33m:\u001b[0m\u001b[1;33m\u001b[0m\u001b[1;33m\u001b[0m\u001b[0m\n\u001b[1;32m---> 84\u001b[1;33m             \u001b[0mself\u001b[0m\u001b[1;33m.\u001b[0m\u001b[0m_cached_auth_cookies\u001b[0m \u001b[1;33m=\u001b[0m \u001b[0mself\u001b[0m\u001b[1;33m.\u001b[0m\u001b[0mget_authentication_cookie\u001b[0m\u001b[1;33m(\u001b[0m\u001b[1;33m)\u001b[0m\u001b[1;33m\u001b[0m\u001b[1;33m\u001b[0m\u001b[0m\n\u001b[0m\u001b[0;32m     85\u001b[0m         \u001b[1;32mreturn\u001b[0m \u001b[1;32mTrue\u001b[0m\u001b[1;33m\u001b[0m\u001b[1;33m\u001b[0m\u001b[0m\n\u001b[0;32m     86\u001b[0m \u001b[1;33m\u001b[0m\u001b[0m\n",
      "\u001b[1;32mN:\\Anaconda3\\lib\\site-packages\\office365\\runtime\\auth\\providers\\saml_token_provider.py\u001b[0m in \u001b[0;36mget_authentication_cookie\u001b[1;34m(self)\u001b[0m\n\u001b[0;32m     95\u001b[0m             \u001b[0muser_realm\u001b[0m \u001b[1;33m=\u001b[0m \u001b[0mself\u001b[0m\u001b[1;33m.\u001b[0m\u001b[0m_get_user_realm\u001b[0m\u001b[1;33m(\u001b[0m\u001b[1;33m)\u001b[0m\u001b[1;33m\u001b[0m\u001b[1;33m\u001b[0m\u001b[0m\n\u001b[0;32m     96\u001b[0m             \u001b[1;32mif\u001b[0m \u001b[0muser_realm\u001b[0m\u001b[1;33m.\u001b[0m\u001b[0mIsFederated\u001b[0m\u001b[1;33m:\u001b[0m\u001b[1;33m\u001b[0m\u001b[1;33m\u001b[0m\u001b[0m\n\u001b[1;32m---> 97\u001b[1;33m                 \u001b[0mtoken\u001b[0m \u001b[1;33m=\u001b[0m \u001b[0mself\u001b[0m\u001b[1;33m.\u001b[0m\u001b[0m_acquire_service_token_from_adfs\u001b[0m\u001b[1;33m(\u001b[0m\u001b[0muser_realm\u001b[0m\u001b[1;33m.\u001b[0m\u001b[0mSTSAuthUrl\u001b[0m\u001b[1;33m)\u001b[0m\u001b[1;33m\u001b[0m\u001b[1;33m\u001b[0m\u001b[0m\n\u001b[0m\u001b[0;32m     98\u001b[0m             \u001b[1;32melse\u001b[0m\u001b[1;33m:\u001b[0m\u001b[1;33m\u001b[0m\u001b[1;33m\u001b[0m\u001b[0m\n\u001b[0;32m     99\u001b[0m                 \u001b[0mtoken\u001b[0m \u001b[1;33m=\u001b[0m \u001b[0mself\u001b[0m\u001b[1;33m.\u001b[0m\u001b[0m_acquire_service_token\u001b[0m\u001b[1;33m(\u001b[0m\u001b[1;33m)\u001b[0m\u001b[1;33m\u001b[0m\u001b[1;33m\u001b[0m\u001b[0m\n",
      "\u001b[1;32mN:\\Anaconda3\\lib\\site-packages\\office365\\runtime\\auth\\providers\\saml_token_provider.py\u001b[0m in \u001b[0;36m_acquire_service_token_from_adfs\u001b[1;34m(self, adfs_url)\u001b[0m\n\u001b[0;32m    150\u001b[0m             response = requests.post(self._sts_profile.security_token_service_url, data=payload,\n\u001b[0;32m    151\u001b[0m                                      headers={'Content-Type': 'application/soap+xml'})\n\u001b[1;32m--> 152\u001b[1;33m             \u001b[0mtoken\u001b[0m \u001b[1;33m=\u001b[0m \u001b[0mself\u001b[0m\u001b[1;33m.\u001b[0m\u001b[0m_process_service_token_response\u001b[0m\u001b[1;33m(\u001b[0m\u001b[0mresponse\u001b[0m\u001b[1;33m)\u001b[0m\u001b[1;33m\u001b[0m\u001b[1;33m\u001b[0m\u001b[0m\n\u001b[0m\u001b[0;32m    153\u001b[0m             \u001b[0mlogger\u001b[0m\u001b[1;33m.\u001b[0m\u001b[0mdebug_secrets\u001b[0m\u001b[1;33m(\u001b[0m\u001b[1;34m'security token: %s'\u001b[0m\u001b[1;33m,\u001b[0m \u001b[0mtoken\u001b[0m\u001b[1;33m)\u001b[0m\u001b[1;33m\u001b[0m\u001b[1;33m\u001b[0m\u001b[0m\n\u001b[0;32m    154\u001b[0m             \u001b[1;32mreturn\u001b[0m \u001b[0mtoken\u001b[0m\u001b[1;33m\u001b[0m\u001b[1;33m\u001b[0m\u001b[0m\n",
      "\u001b[1;32mN:\\Anaconda3\\lib\\site-packages\\office365\\runtime\\auth\\providers\\saml_token_provider.py\u001b[0m in \u001b[0;36m_process_service_token_response\u001b[1;34m(self, response)\u001b[0m\n\u001b[0;32m    199\u001b[0m                 \u001b[0mself\u001b[0m\u001b[1;33m.\u001b[0m\u001b[0merror\u001b[0m \u001b[1;33m=\u001b[0m \u001b[1;34m'An error occurred while retrieving token from XML response: {0}'\u001b[0m\u001b[1;33m.\u001b[0m\u001b[0mformat\u001b[0m\u001b[1;33m(\u001b[0m\u001b[0merror\u001b[0m\u001b[1;33m.\u001b[0m\u001b[0mtext\u001b[0m\u001b[1;33m)\u001b[0m\u001b[1;33m\u001b[0m\u001b[1;33m\u001b[0m\u001b[0m\n\u001b[0;32m    200\u001b[0m             \u001b[0mlogger\u001b[0m\u001b[1;33m.\u001b[0m\u001b[0merror\u001b[0m\u001b[1;33m(\u001b[0m\u001b[0mself\u001b[0m\u001b[1;33m.\u001b[0m\u001b[0merror\u001b[0m\u001b[1;33m)\u001b[0m\u001b[1;33m\u001b[0m\u001b[1;33m\u001b[0m\u001b[0m\n\u001b[1;32m--> 201\u001b[1;33m             \u001b[1;32mraise\u001b[0m \u001b[0mValueError\u001b[0m\u001b[1;33m(\u001b[0m\u001b[0mself\u001b[0m\u001b[1;33m.\u001b[0m\u001b[0merror\u001b[0m\u001b[1;33m)\u001b[0m\u001b[1;33m\u001b[0m\u001b[1;33m\u001b[0m\u001b[0m\n\u001b[0m\u001b[0;32m    202\u001b[0m \u001b[1;33m\u001b[0m\u001b[0m\n\u001b[0;32m    203\u001b[0m         \u001b[1;31m# extract token\u001b[0m\u001b[1;33m\u001b[0m\u001b[1;33m\u001b[0m\u001b[1;33m\u001b[0m\u001b[0m\n",
      "\u001b[1;31mValueError\u001b[0m: An error occurred while retrieving token from XML response: AADSTS5000811: Unable to verify token signature. The signing key identifier does not match any valid registered keys."
     ]
    }
   ],
   "source": [
    "baseurl = 'https://irpcplc.sharepoint.com'\n",
    "basesite = '/sites/Seiya_Site' # every share point has a home.\n",
    "docurl = '/Shared%20Documents/sap/Enfotech'\n",
    "siteurl = baseurl + basesite \n",
    "target_url = basesite+docurl\n",
    "ctx_auth = AuthenticationContext(siteurl)\n",
    "ctx_auth.acquire_token_for_user(sharepoint_user, sharepoint_pass)\n",
    "ctx = ClientContext(siteurl, ctx_auth) # make sure you auth to the siteurl.\n",
    "target_folder = ctx.web.get_folder_by_server_relative_url(target_url)\n",
    "\n",
    "local_path = saved_dir+'EnfotechNotiOrder.xlsx'\n",
    "upload_largefile2sharepoint(file2upload=local_path)\n",
    "\n",
    "baseurl = 'https://irpcplc.sharepoint.com'\n",
    "basesite = '/sites/IRPCWebsite/PRO/EM' # every share point has a home.\n",
    "docurl = '/Shared%20Documents/SAPPM_Python_Uploaded'\n",
    "siteurl = baseurl + basesite \n",
    "target_url = basesite+docurl\n",
    "ctx_auth = AuthenticationContext(siteurl)\n",
    "ctx_auth.acquire_token_for_user(sharepoint_user, sharepoint_pass)\n",
    "ctx = ClientContext(siteurl, ctx_auth) # make sure you auth to the siteurl.\n",
    "target_folder = ctx.web.get_folder_by_server_relative_url(target_url)"
   ]
  },
  {
   "cell_type": "code",
   "execution_count": 105,
   "metadata": {},
   "outputs": [
    {
     "name": "stdout",
     "output_type": "stream",
     "text": [
      "Time2Save orderwithoutnoti = 0 days 00:00:11.260163\n"
     ]
    }
   ],
   "source": [
    "#order_wo_noti\n",
    "t1_start = pd.Timestamp.now()\n",
    "order_wo_noti = enfo_saporder.copy()[(enfo_saporder.Order_Noti.str.isspace())&((enfo_saporder.Order_SupOrder.isnull())|(enfo_saporder.Order_SupOrder.str.isspace()))]\n",
    "order_wo_noti.loc[:,'Order_PlannerGroup'] = order_wo_noti.Order_MainWC.str[:3]\n",
    "order_wo_noti = order_wo_noti.merge(pgdiv,left_on='Order_PlannerGroup',right_on='plannergroup',how='left')\n",
    "order_wo_noti.loc[:,'Plant'] = order_wo_noti.Order_FL.str[:4].str.strip()\n",
    "order_wo_noti = order_wo_noti.merge(complex,on='Plant', how='left')\n",
    "order_wo_noti.to_excel(saved_dir+'OrderWithoutNoti.xlsx', index = False,engine='xlsxwriter')\n",
    "print(f'Time2Save orderwithoutnoti = {pd.Timestamp.now()-t1_start}')"
   ]
  },
  {
   "cell_type": "code",
   "execution_count": 106,
   "metadata": {
    "tags": []
   },
   "outputs": [
    {
     "ename": "NameError",
     "evalue": "name 'upload_largefile2sharepoint' is not defined",
     "output_type": "error",
     "traceback": [
      "\u001b[1;31m---------------------------------------------------------------------------\u001b[0m",
      "\u001b[1;31mNameError\u001b[0m                                 Traceback (most recent call last)",
      "\u001b[1;32m<ipython-input-106-2913473d9e5b>\u001b[0m in \u001b[0;36m<module>\u001b[1;34m\u001b[0m\n\u001b[0;32m      1\u001b[0m \u001b[0mlocal_path\u001b[0m \u001b[1;33m=\u001b[0m \u001b[0msaved_dir\u001b[0m\u001b[1;33m+\u001b[0m\u001b[1;34m'OrderWithoutNoti.xlsx'\u001b[0m\u001b[1;33m\u001b[0m\u001b[1;33m\u001b[0m\u001b[0m\n\u001b[1;32m----> 2\u001b[1;33m \u001b[0mupload_largefile2sharepoint\u001b[0m\u001b[1;33m(\u001b[0m\u001b[0mfile2upload\u001b[0m\u001b[1;33m=\u001b[0m\u001b[0mlocal_path\u001b[0m\u001b[1;33m)\u001b[0m\u001b[1;33m\u001b[0m\u001b[1;33m\u001b[0m\u001b[0m\n\u001b[0m",
      "\u001b[1;31mNameError\u001b[0m: name 'upload_largefile2sharepoint' is not defined"
     ]
    }
   ],
   "source": [
    "local_path = saved_dir+'OrderWithoutNoti.xlsx'\n",
    "upload_largefile2sharepoint(file2upload=local_path)"
   ]
  },
  {
   "cell_type": "code",
   "execution_count": 107,
   "metadata": {},
   "outputs": [
    {
     "data": {
      "text/plain": [
       "Index(['Complex', 'Plant', 'Plant4', 'Noti', 'NotiDesc', 'notilongtxt',\n",
       "       'ref_pm_order', 'FL', 'fltype', 'FLabc', 'FLDesc', 'flstatus',\n",
       "       'NotiDate', 'MalFnSt', 'MalFnEnd', 'ReqSt', 'ReqEn', 'NotiCreateDate',\n",
       "       'NotiChanged', 'Eq', 'eqtype', 'eqclass', 'Eqabc', 'eqstatus', 'MainWC',\n",
       "       'MtcePlant', 'PlantName', 'CCTR', 'BreakdownInd', 'NotiSysStatus',\n",
       "       'NotiUserStatus', 'NotiPri', 'NotiPriTxt', 'Order', 'OrderDesc',\n",
       "       'OrderType', 'NotiType', 'FLobjType', 'FLClass', 'WorkSt', 'WorkFn',\n",
       "       'OrderBasicStart', 'OrderBasicFinish', 'ActLaborCost', 'ActMatCost',\n",
       "       'ActExtCost', 'AmountOfWorkOrder', 'MH', 'NotiCreateYear', 'TTRMinute',\n",
       "       'TotalCost', 'CashCost', 'notification', 'MainActType',\n",
       "       'OrderCreateDate', 'TecoDate', 'OrderSysStatus', 'OrderUserStatus',\n",
       "       'Superior Order', 'plannergroup', 'failuremode_codegroup',\n",
       "       'failuemode_id', 'failuremode', 'cattype_failuremech',\n",
       "       'failuremech_codegroup', 'failuremech_codegroupdesc', 'failuermech_id',\n",
       "       'failuremech', 'mtceitem_codegroup', 'mtceitem_subunit', 'mtceitem_id',\n",
       "       'mtceitem_part', 'catttype_mtceact', 'mtceact_codegroup',\n",
       "       'mtceact_codegroupdesc', 'mtceact_id', 'mtceact', 'causetxt',\n",
       "       'cause_codegroup', 'cause_codegroupdesc', 'cause_id', 'cause',\n",
       "       'NotiCreateByID', 'NotiCreateBy', 'NotiCreateSec', 'NotiCompleteByID',\n",
       "       'NotiCompleteBy', 'NotiCompleteSec', 'complex', 'plant', 'population',\n",
       "       'finished', 'canceled', 'dqp', 'needhist', 'FCC', 'SRC', 'Div'],\n",
       "      dtype='object')"
      ]
     },
     "execution_count": 107,
     "metadata": {},
     "output_type": "execute_result"
    }
   ],
   "source": [
    "sapsummary.columns"
   ]
  },
  {
   "cell_type": "code",
   "execution_count": 108,
   "metadata": {},
   "outputs": [
    {
     "name": "stdout",
     "output_type": "stream",
     "text": [
      "Time2Save SAPPM.CSV = 0 days 00:03:40.899627\n"
     ]
    }
   ],
   "source": [
    "t1_start = pd.Timestamp.now()\n",
    "sapsummary.to_csv(saved_dir+'SapPM.csv',index=False)\n",
    "print(f'Time2Save SAPPM.CSV = {pd.Timestamp.now()-t1_start}')"
   ]
  },
  {
   "cell_type": "code",
   "execution_count": 109,
   "metadata": {},
   "outputs": [
    {
     "ename": "NameError",
     "evalue": "name 'upload_largefile2sharepoint' is not defined",
     "output_type": "error",
     "traceback": [
      "\u001b[1;31m---------------------------------------------------------------------------\u001b[0m",
      "\u001b[1;31mNameError\u001b[0m                                 Traceback (most recent call last)",
      "\u001b[1;32m<ipython-input-109-8c915955d6ef>\u001b[0m in \u001b[0;36m<module>\u001b[1;34m\u001b[0m\n\u001b[0;32m      1\u001b[0m \u001b[0mlocal_path\u001b[0m \u001b[1;33m=\u001b[0m \u001b[0msaved_dir\u001b[0m\u001b[1;33m+\u001b[0m\u001b[1;34m'SapPM.csv'\u001b[0m\u001b[1;33m\u001b[0m\u001b[1;33m\u001b[0m\u001b[0m\n\u001b[1;32m----> 2\u001b[1;33m \u001b[0mupload_largefile2sharepoint\u001b[0m\u001b[1;33m(\u001b[0m\u001b[0mfile2upload\u001b[0m\u001b[1;33m=\u001b[0m\u001b[0mlocal_path\u001b[0m\u001b[1;33m)\u001b[0m\u001b[1;33m\u001b[0m\u001b[1;33m\u001b[0m\u001b[0m\n\u001b[0m",
      "\u001b[1;31mNameError\u001b[0m: name 'upload_largefile2sharepoint' is not defined"
     ]
    }
   ],
   "source": [
    "local_path = saved_dir+'SapPM.csv'\n",
    "upload_largefile2sharepoint(file2upload=local_path)"
   ]
  },
  {
   "cell_type": "code",
   "execution_count": null,
   "metadata": {},
   "outputs": [],
   "source": [
    "print(f'Time2Run import and merge SAP PM data from sql server = {pd.Timestamp.now()-t_start0}')\n",
    "print(f'Finished on {pd.Timestamp.now()}')"
   ]
  },
  {
   "cell_type": "code",
   "execution_count": null,
   "metadata": {},
   "outputs": [],
   "source": [
    "sapsummary.info()"
   ]
  },
  {
   "cell_type": "code",
   "execution_count": null,
   "metadata": {},
   "outputs": [],
   "source": [
    "sapsummary"
   ]
  },
  {
   "cell_type": "code",
   "execution_count": null,
   "metadata": {},
   "outputs": [],
   "source": [
    "# sapsummary[sapsummary.FCC==True]"
   ]
  },
  {
   "cell_type": "code",
   "execution_count": null,
   "metadata": {},
   "outputs": [],
   "source": [
    "# xx = pd.read_csv('SAPPM.csv')"
   ]
  },
  {
   "cell_type": "code",
   "execution_count": null,
   "metadata": {},
   "outputs": [],
   "source": [
    "# xx.info()"
   ]
  },
  {
   "cell_type": "code",
   "execution_count": null,
   "metadata": {},
   "outputs": [],
   "source": [
    "%history"
   ]
  },
  {
   "cell_type": "code",
   "execution_count": null,
   "metadata": {},
   "outputs": [],
   "source": []
  }
 ],
 "metadata": {
  "kernelspec": {
   "display_name": "Python 3",
   "language": "python",
   "name": "python3"
  },
  "language_info": {
   "codemirror_mode": {
    "name": "ipython",
    "version": 3
   },
   "file_extension": ".py",
   "mimetype": "text/x-python",
   "name": "python",
   "nbconvert_exporter": "python",
   "pygments_lexer": "ipython3",
   "version": "3.8.8"
  }
 },
 "nbformat": 4,
 "nbformat_minor": 4
}
